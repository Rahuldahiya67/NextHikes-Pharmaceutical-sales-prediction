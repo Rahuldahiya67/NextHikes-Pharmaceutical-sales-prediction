{
 "cells": [
  {
   "cell_type": "markdown",
   "id": "7608ad04",
   "metadata": {},
   "source": [
    "## Rossman Pharmaceutical Task 1 EDA"
   ]
  },
  {
   "cell_type": "code",
   "execution_count": 2,
   "id": "e868ad2d",
   "metadata": {},
   "outputs": [],
   "source": [
    "import pandas as pd\n",
    "import numpy as np\n",
    "import matplotlib.pyplot as plt\n",
    "%matplotlib inline\n",
    "import seaborn as sns\n",
    "import warnings\n",
    "warnings.filterwarnings('ignore') "
   ]
  },
  {
   "cell_type": "code",
   "execution_count": 15,
   "id": "a4d9d536",
   "metadata": {},
   "outputs": [],
   "source": [
    "## Train Data\n",
    "train_data = pd.read_csv('train.csv')"
   ]
  },
  {
   "cell_type": "code",
   "execution_count": 16,
   "id": "574a5081",
   "metadata": {},
   "outputs": [
    {
     "data": {
      "text/plain": [
       "(1017209, 9)"
      ]
     },
     "execution_count": 16,
     "metadata": {},
     "output_type": "execute_result"
    }
   ],
   "source": [
    "## Shape of Train Data\n",
    "train_data.shape"
   ]
  },
  {
   "cell_type": "code",
   "execution_count": 17,
   "id": "c576f650",
   "metadata": {},
   "outputs": [
    {
     "data": {
      "text/html": [
       "<div>\n",
       "<style scoped>\n",
       "    .dataframe tbody tr th:only-of-type {\n",
       "        vertical-align: middle;\n",
       "    }\n",
       "\n",
       "    .dataframe tbody tr th {\n",
       "        vertical-align: top;\n",
       "    }\n",
       "\n",
       "    .dataframe thead th {\n",
       "        text-align: right;\n",
       "    }\n",
       "</style>\n",
       "<table border=\"1\" class=\"dataframe\">\n",
       "  <thead>\n",
       "    <tr style=\"text-align: right;\">\n",
       "      <th></th>\n",
       "      <th>Store</th>\n",
       "      <th>DayOfWeek</th>\n",
       "      <th>Date</th>\n",
       "      <th>Sales</th>\n",
       "      <th>Customers</th>\n",
       "      <th>Open</th>\n",
       "      <th>Promo</th>\n",
       "      <th>StateHoliday</th>\n",
       "      <th>SchoolHoliday</th>\n",
       "    </tr>\n",
       "  </thead>\n",
       "  <tbody>\n",
       "    <tr>\n",
       "      <th>0</th>\n",
       "      <td>1</td>\n",
       "      <td>5</td>\n",
       "      <td>2015-07-31</td>\n",
       "      <td>5263</td>\n",
       "      <td>555</td>\n",
       "      <td>1</td>\n",
       "      <td>1</td>\n",
       "      <td>0</td>\n",
       "      <td>1</td>\n",
       "    </tr>\n",
       "    <tr>\n",
       "      <th>1</th>\n",
       "      <td>2</td>\n",
       "      <td>5</td>\n",
       "      <td>2015-07-31</td>\n",
       "      <td>6064</td>\n",
       "      <td>625</td>\n",
       "      <td>1</td>\n",
       "      <td>1</td>\n",
       "      <td>0</td>\n",
       "      <td>1</td>\n",
       "    </tr>\n",
       "    <tr>\n",
       "      <th>2</th>\n",
       "      <td>3</td>\n",
       "      <td>5</td>\n",
       "      <td>2015-07-31</td>\n",
       "      <td>8314</td>\n",
       "      <td>821</td>\n",
       "      <td>1</td>\n",
       "      <td>1</td>\n",
       "      <td>0</td>\n",
       "      <td>1</td>\n",
       "    </tr>\n",
       "    <tr>\n",
       "      <th>3</th>\n",
       "      <td>4</td>\n",
       "      <td>5</td>\n",
       "      <td>2015-07-31</td>\n",
       "      <td>13995</td>\n",
       "      <td>1498</td>\n",
       "      <td>1</td>\n",
       "      <td>1</td>\n",
       "      <td>0</td>\n",
       "      <td>1</td>\n",
       "    </tr>\n",
       "    <tr>\n",
       "      <th>4</th>\n",
       "      <td>5</td>\n",
       "      <td>5</td>\n",
       "      <td>2015-07-31</td>\n",
       "      <td>4822</td>\n",
       "      <td>559</td>\n",
       "      <td>1</td>\n",
       "      <td>1</td>\n",
       "      <td>0</td>\n",
       "      <td>1</td>\n",
       "    </tr>\n",
       "  </tbody>\n",
       "</table>\n",
       "</div>"
      ],
      "text/plain": [
       "   Store  DayOfWeek        Date  Sales  Customers  Open  Promo StateHoliday  \\\n",
       "0      1          5  2015-07-31   5263        555     1      1            0   \n",
       "1      2          5  2015-07-31   6064        625     1      1            0   \n",
       "2      3          5  2015-07-31   8314        821     1      1            0   \n",
       "3      4          5  2015-07-31  13995       1498     1      1            0   \n",
       "4      5          5  2015-07-31   4822        559     1      1            0   \n",
       "\n",
       "   SchoolHoliday  \n",
       "0              1  \n",
       "1              1  \n",
       "2              1  \n",
       "3              1  \n",
       "4              1  "
      ]
     },
     "execution_count": 17,
     "metadata": {},
     "output_type": "execute_result"
    }
   ],
   "source": [
    "train_data.head()"
   ]
  },
  {
   "cell_type": "code",
   "execution_count": 5,
   "id": "97154fdc",
   "metadata": {},
   "outputs": [
    {
     "data": {
      "text/html": [
       "<div>\n",
       "<style scoped>\n",
       "    .dataframe tbody tr th:only-of-type {\n",
       "        vertical-align: middle;\n",
       "    }\n",
       "\n",
       "    .dataframe tbody tr th {\n",
       "        vertical-align: top;\n",
       "    }\n",
       "\n",
       "    .dataframe thead th {\n",
       "        text-align: right;\n",
       "    }\n",
       "</style>\n",
       "<table border=\"1\" class=\"dataframe\">\n",
       "  <thead>\n",
       "    <tr style=\"text-align: right;\">\n",
       "      <th></th>\n",
       "      <th>Store</th>\n",
       "      <th>DayOfWeek</th>\n",
       "      <th>Date</th>\n",
       "      <th>Sales</th>\n",
       "      <th>Customers</th>\n",
       "      <th>Open</th>\n",
       "      <th>Promo</th>\n",
       "      <th>StateHoliday</th>\n",
       "      <th>SchoolHoliday</th>\n",
       "    </tr>\n",
       "  </thead>\n",
       "  <tbody>\n",
       "    <tr>\n",
       "      <th>0</th>\n",
       "      <td>1</td>\n",
       "      <td>5</td>\n",
       "      <td>2015-07-31</td>\n",
       "      <td>5263</td>\n",
       "      <td>555</td>\n",
       "      <td>1</td>\n",
       "      <td>1</td>\n",
       "      <td>0</td>\n",
       "      <td>1</td>\n",
       "    </tr>\n",
       "    <tr>\n",
       "      <th>1</th>\n",
       "      <td>2</td>\n",
       "      <td>5</td>\n",
       "      <td>2015-07-31</td>\n",
       "      <td>6064</td>\n",
       "      <td>625</td>\n",
       "      <td>1</td>\n",
       "      <td>1</td>\n",
       "      <td>0</td>\n",
       "      <td>1</td>\n",
       "    </tr>\n",
       "    <tr>\n",
       "      <th>2</th>\n",
       "      <td>3</td>\n",
       "      <td>5</td>\n",
       "      <td>2015-07-31</td>\n",
       "      <td>8314</td>\n",
       "      <td>821</td>\n",
       "      <td>1</td>\n",
       "      <td>1</td>\n",
       "      <td>0</td>\n",
       "      <td>1</td>\n",
       "    </tr>\n",
       "    <tr>\n",
       "      <th>3</th>\n",
       "      <td>4</td>\n",
       "      <td>5</td>\n",
       "      <td>2015-07-31</td>\n",
       "      <td>13995</td>\n",
       "      <td>1498</td>\n",
       "      <td>1</td>\n",
       "      <td>1</td>\n",
       "      <td>0</td>\n",
       "      <td>1</td>\n",
       "    </tr>\n",
       "    <tr>\n",
       "      <th>4</th>\n",
       "      <td>5</td>\n",
       "      <td>5</td>\n",
       "      <td>2015-07-31</td>\n",
       "      <td>4822</td>\n",
       "      <td>559</td>\n",
       "      <td>1</td>\n",
       "      <td>1</td>\n",
       "      <td>0</td>\n",
       "      <td>1</td>\n",
       "    </tr>\n",
       "    <tr>\n",
       "      <th>5</th>\n",
       "      <td>6</td>\n",
       "      <td>5</td>\n",
       "      <td>2015-07-31</td>\n",
       "      <td>5651</td>\n",
       "      <td>589</td>\n",
       "      <td>1</td>\n",
       "      <td>1</td>\n",
       "      <td>0</td>\n",
       "      <td>1</td>\n",
       "    </tr>\n",
       "    <tr>\n",
       "      <th>6</th>\n",
       "      <td>7</td>\n",
       "      <td>5</td>\n",
       "      <td>2015-07-31</td>\n",
       "      <td>15344</td>\n",
       "      <td>1414</td>\n",
       "      <td>1</td>\n",
       "      <td>1</td>\n",
       "      <td>0</td>\n",
       "      <td>1</td>\n",
       "    </tr>\n",
       "    <tr>\n",
       "      <th>7</th>\n",
       "      <td>8</td>\n",
       "      <td>5</td>\n",
       "      <td>2015-07-31</td>\n",
       "      <td>8492</td>\n",
       "      <td>833</td>\n",
       "      <td>1</td>\n",
       "      <td>1</td>\n",
       "      <td>0</td>\n",
       "      <td>1</td>\n",
       "    </tr>\n",
       "    <tr>\n",
       "      <th>8</th>\n",
       "      <td>9</td>\n",
       "      <td>5</td>\n",
       "      <td>2015-07-31</td>\n",
       "      <td>8565</td>\n",
       "      <td>687</td>\n",
       "      <td>1</td>\n",
       "      <td>1</td>\n",
       "      <td>0</td>\n",
       "      <td>1</td>\n",
       "    </tr>\n",
       "    <tr>\n",
       "      <th>9</th>\n",
       "      <td>10</td>\n",
       "      <td>5</td>\n",
       "      <td>2015-07-31</td>\n",
       "      <td>7185</td>\n",
       "      <td>681</td>\n",
       "      <td>1</td>\n",
       "      <td>1</td>\n",
       "      <td>0</td>\n",
       "      <td>1</td>\n",
       "    </tr>\n",
       "    <tr>\n",
       "      <th>10</th>\n",
       "      <td>11</td>\n",
       "      <td>5</td>\n",
       "      <td>2015-07-31</td>\n",
       "      <td>10457</td>\n",
       "      <td>1236</td>\n",
       "      <td>1</td>\n",
       "      <td>1</td>\n",
       "      <td>0</td>\n",
       "      <td>1</td>\n",
       "    </tr>\n",
       "    <tr>\n",
       "      <th>11</th>\n",
       "      <td>12</td>\n",
       "      <td>5</td>\n",
       "      <td>2015-07-31</td>\n",
       "      <td>8959</td>\n",
       "      <td>962</td>\n",
       "      <td>1</td>\n",
       "      <td>1</td>\n",
       "      <td>0</td>\n",
       "      <td>1</td>\n",
       "    </tr>\n",
       "    <tr>\n",
       "      <th>12</th>\n",
       "      <td>13</td>\n",
       "      <td>5</td>\n",
       "      <td>2015-07-31</td>\n",
       "      <td>8821</td>\n",
       "      <td>568</td>\n",
       "      <td>1</td>\n",
       "      <td>1</td>\n",
       "      <td>0</td>\n",
       "      <td>0</td>\n",
       "    </tr>\n",
       "    <tr>\n",
       "      <th>13</th>\n",
       "      <td>14</td>\n",
       "      <td>5</td>\n",
       "      <td>2015-07-31</td>\n",
       "      <td>6544</td>\n",
       "      <td>710</td>\n",
       "      <td>1</td>\n",
       "      <td>1</td>\n",
       "      <td>0</td>\n",
       "      <td>1</td>\n",
       "    </tr>\n",
       "    <tr>\n",
       "      <th>14</th>\n",
       "      <td>15</td>\n",
       "      <td>5</td>\n",
       "      <td>2015-07-31</td>\n",
       "      <td>9191</td>\n",
       "      <td>766</td>\n",
       "      <td>1</td>\n",
       "      <td>1</td>\n",
       "      <td>0</td>\n",
       "      <td>1</td>\n",
       "    </tr>\n",
       "    <tr>\n",
       "      <th>15</th>\n",
       "      <td>16</td>\n",
       "      <td>5</td>\n",
       "      <td>2015-07-31</td>\n",
       "      <td>10231</td>\n",
       "      <td>979</td>\n",
       "      <td>1</td>\n",
       "      <td>1</td>\n",
       "      <td>0</td>\n",
       "      <td>1</td>\n",
       "    </tr>\n",
       "    <tr>\n",
       "      <th>16</th>\n",
       "      <td>17</td>\n",
       "      <td>5</td>\n",
       "      <td>2015-07-31</td>\n",
       "      <td>8430</td>\n",
       "      <td>946</td>\n",
       "      <td>1</td>\n",
       "      <td>1</td>\n",
       "      <td>0</td>\n",
       "      <td>1</td>\n",
       "    </tr>\n",
       "    <tr>\n",
       "      <th>17</th>\n",
       "      <td>18</td>\n",
       "      <td>5</td>\n",
       "      <td>2015-07-31</td>\n",
       "      <td>10071</td>\n",
       "      <td>936</td>\n",
       "      <td>1</td>\n",
       "      <td>1</td>\n",
       "      <td>0</td>\n",
       "      <td>1</td>\n",
       "    </tr>\n",
       "    <tr>\n",
       "      <th>18</th>\n",
       "      <td>19</td>\n",
       "      <td>5</td>\n",
       "      <td>2015-07-31</td>\n",
       "      <td>8234</td>\n",
       "      <td>718</td>\n",
       "      <td>1</td>\n",
       "      <td>1</td>\n",
       "      <td>0</td>\n",
       "      <td>1</td>\n",
       "    </tr>\n",
       "    <tr>\n",
       "      <th>19</th>\n",
       "      <td>20</td>\n",
       "      <td>5</td>\n",
       "      <td>2015-07-31</td>\n",
       "      <td>9593</td>\n",
       "      <td>974</td>\n",
       "      <td>1</td>\n",
       "      <td>1</td>\n",
       "      <td>0</td>\n",
       "      <td>0</td>\n",
       "    </tr>\n",
       "    <tr>\n",
       "      <th>20</th>\n",
       "      <td>21</td>\n",
       "      <td>5</td>\n",
       "      <td>2015-07-31</td>\n",
       "      <td>9515</td>\n",
       "      <td>682</td>\n",
       "      <td>1</td>\n",
       "      <td>1</td>\n",
       "      <td>0</td>\n",
       "      <td>1</td>\n",
       "    </tr>\n",
       "    <tr>\n",
       "      <th>21</th>\n",
       "      <td>22</td>\n",
       "      <td>5</td>\n",
       "      <td>2015-07-31</td>\n",
       "      <td>6566</td>\n",
       "      <td>633</td>\n",
       "      <td>1</td>\n",
       "      <td>1</td>\n",
       "      <td>0</td>\n",
       "      <td>0</td>\n",
       "    </tr>\n",
       "    <tr>\n",
       "      <th>22</th>\n",
       "      <td>23</td>\n",
       "      <td>5</td>\n",
       "      <td>2015-07-31</td>\n",
       "      <td>7273</td>\n",
       "      <td>560</td>\n",
       "      <td>1</td>\n",
       "      <td>1</td>\n",
       "      <td>0</td>\n",
       "      <td>1</td>\n",
       "    </tr>\n",
       "    <tr>\n",
       "      <th>23</th>\n",
       "      <td>24</td>\n",
       "      <td>5</td>\n",
       "      <td>2015-07-31</td>\n",
       "      <td>14190</td>\n",
       "      <td>1082</td>\n",
       "      <td>1</td>\n",
       "      <td>1</td>\n",
       "      <td>0</td>\n",
       "      <td>1</td>\n",
       "    </tr>\n",
       "    <tr>\n",
       "      <th>24</th>\n",
       "      <td>25</td>\n",
       "      <td>5</td>\n",
       "      <td>2015-07-31</td>\n",
       "      <td>14180</td>\n",
       "      <td>1586</td>\n",
       "      <td>1</td>\n",
       "      <td>1</td>\n",
       "      <td>0</td>\n",
       "      <td>1</td>\n",
       "    </tr>\n",
       "    <tr>\n",
       "      <th>25</th>\n",
       "      <td>26</td>\n",
       "      <td>5</td>\n",
       "      <td>2015-07-31</td>\n",
       "      <td>7818</td>\n",
       "      <td>611</td>\n",
       "      <td>1</td>\n",
       "      <td>1</td>\n",
       "      <td>0</td>\n",
       "      <td>1</td>\n",
       "    </tr>\n",
       "    <tr>\n",
       "      <th>26</th>\n",
       "      <td>27</td>\n",
       "      <td>5</td>\n",
       "      <td>2015-07-31</td>\n",
       "      <td>13213</td>\n",
       "      <td>1263</td>\n",
       "      <td>1</td>\n",
       "      <td>1</td>\n",
       "      <td>0</td>\n",
       "      <td>1</td>\n",
       "    </tr>\n",
       "    <tr>\n",
       "      <th>27</th>\n",
       "      <td>28</td>\n",
       "      <td>5</td>\n",
       "      <td>2015-07-31</td>\n",
       "      <td>7301</td>\n",
       "      <td>663</td>\n",
       "      <td>1</td>\n",
       "      <td>1</td>\n",
       "      <td>0</td>\n",
       "      <td>1</td>\n",
       "    </tr>\n",
       "    <tr>\n",
       "      <th>28</th>\n",
       "      <td>29</td>\n",
       "      <td>5</td>\n",
       "      <td>2015-07-31</td>\n",
       "      <td>9411</td>\n",
       "      <td>737</td>\n",
       "      <td>1</td>\n",
       "      <td>1</td>\n",
       "      <td>0</td>\n",
       "      <td>1</td>\n",
       "    </tr>\n",
       "    <tr>\n",
       "      <th>29</th>\n",
       "      <td>30</td>\n",
       "      <td>5</td>\n",
       "      <td>2015-07-31</td>\n",
       "      <td>4776</td>\n",
       "      <td>625</td>\n",
       "      <td>1</td>\n",
       "      <td>1</td>\n",
       "      <td>0</td>\n",
       "      <td>1</td>\n",
       "    </tr>\n",
       "    <tr>\n",
       "      <th>30</th>\n",
       "      <td>31</td>\n",
       "      <td>5</td>\n",
       "      <td>2015-07-31</td>\n",
       "      <td>7248</td>\n",
       "      <td>645</td>\n",
       "      <td>1</td>\n",
       "      <td>1</td>\n",
       "      <td>0</td>\n",
       "      <td>1</td>\n",
       "    </tr>\n",
       "    <tr>\n",
       "      <th>31</th>\n",
       "      <td>32</td>\n",
       "      <td>5</td>\n",
       "      <td>2015-07-31</td>\n",
       "      <td>6395</td>\n",
       "      <td>635</td>\n",
       "      <td>1</td>\n",
       "      <td>1</td>\n",
       "      <td>0</td>\n",
       "      <td>0</td>\n",
       "    </tr>\n",
       "    <tr>\n",
       "      <th>32</th>\n",
       "      <td>33</td>\n",
       "      <td>5</td>\n",
       "      <td>2015-07-31</td>\n",
       "      <td>10789</td>\n",
       "      <td>915</td>\n",
       "      <td>1</td>\n",
       "      <td>1</td>\n",
       "      <td>0</td>\n",
       "      <td>1</td>\n",
       "    </tr>\n",
       "    <tr>\n",
       "      <th>33</th>\n",
       "      <td>34</td>\n",
       "      <td>5</td>\n",
       "      <td>2015-07-31</td>\n",
       "      <td>11144</td>\n",
       "      <td>1162</td>\n",
       "      <td>1</td>\n",
       "      <td>1</td>\n",
       "      <td>0</td>\n",
       "      <td>1</td>\n",
       "    </tr>\n",
       "    <tr>\n",
       "      <th>34</th>\n",
       "      <td>35</td>\n",
       "      <td>5</td>\n",
       "      <td>2015-07-31</td>\n",
       "      <td>12412</td>\n",
       "      <td>777</td>\n",
       "      <td>1</td>\n",
       "      <td>1</td>\n",
       "      <td>0</td>\n",
       "      <td>1</td>\n",
       "    </tr>\n",
       "    <tr>\n",
       "      <th>35</th>\n",
       "      <td>36</td>\n",
       "      <td>5</td>\n",
       "      <td>2015-07-31</td>\n",
       "      <td>12422</td>\n",
       "      <td>1251</td>\n",
       "      <td>1</td>\n",
       "      <td>1</td>\n",
       "      <td>0</td>\n",
       "      <td>0</td>\n",
       "    </tr>\n",
       "    <tr>\n",
       "      <th>36</th>\n",
       "      <td>37</td>\n",
       "      <td>5</td>\n",
       "      <td>2015-07-31</td>\n",
       "      <td>9091</td>\n",
       "      <td>888</td>\n",
       "      <td>1</td>\n",
       "      <td>1</td>\n",
       "      <td>0</td>\n",
       "      <td>1</td>\n",
       "    </tr>\n",
       "    <tr>\n",
       "      <th>37</th>\n",
       "      <td>38</td>\n",
       "      <td>5</td>\n",
       "      <td>2015-07-31</td>\n",
       "      <td>7434</td>\n",
       "      <td>608</td>\n",
       "      <td>1</td>\n",
       "      <td>1</td>\n",
       "      <td>0</td>\n",
       "      <td>1</td>\n",
       "    </tr>\n",
       "    <tr>\n",
       "      <th>38</th>\n",
       "      <td>39</td>\n",
       "      <td>5</td>\n",
       "      <td>2015-07-31</td>\n",
       "      <td>8336</td>\n",
       "      <td>929</td>\n",
       "      <td>1</td>\n",
       "      <td>1</td>\n",
       "      <td>0</td>\n",
       "      <td>1</td>\n",
       "    </tr>\n",
       "    <tr>\n",
       "      <th>39</th>\n",
       "      <td>40</td>\n",
       "      <td>5</td>\n",
       "      <td>2015-07-31</td>\n",
       "      <td>5464</td>\n",
       "      <td>678</td>\n",
       "      <td>1</td>\n",
       "      <td>1</td>\n",
       "      <td>0</td>\n",
       "      <td>1</td>\n",
       "    </tr>\n",
       "    <tr>\n",
       "      <th>40</th>\n",
       "      <td>41</td>\n",
       "      <td>5</td>\n",
       "      <td>2015-07-31</td>\n",
       "      <td>6938</td>\n",
       "      <td>494</td>\n",
       "      <td>1</td>\n",
       "      <td>1</td>\n",
       "      <td>0</td>\n",
       "      <td>0</td>\n",
       "    </tr>\n",
       "    <tr>\n",
       "      <th>41</th>\n",
       "      <td>42</td>\n",
       "      <td>5</td>\n",
       "      <td>2015-07-31</td>\n",
       "      <td>11946</td>\n",
       "      <td>1235</td>\n",
       "      <td>1</td>\n",
       "      <td>1</td>\n",
       "      <td>0</td>\n",
       "      <td>1</td>\n",
       "    </tr>\n",
       "    <tr>\n",
       "      <th>42</th>\n",
       "      <td>43</td>\n",
       "      <td>5</td>\n",
       "      <td>2015-07-31</td>\n",
       "      <td>8096</td>\n",
       "      <td>683</td>\n",
       "      <td>1</td>\n",
       "      <td>1</td>\n",
       "      <td>0</td>\n",
       "      <td>1</td>\n",
       "    </tr>\n",
       "    <tr>\n",
       "      <th>43</th>\n",
       "      <td>44</td>\n",
       "      <td>5</td>\n",
       "      <td>2015-07-31</td>\n",
       "      <td>6670</td>\n",
       "      <td>665</td>\n",
       "      <td>1</td>\n",
       "      <td>1</td>\n",
       "      <td>0</td>\n",
       "      <td>1</td>\n",
       "    </tr>\n",
       "    <tr>\n",
       "      <th>44</th>\n",
       "      <td>45</td>\n",
       "      <td>5</td>\n",
       "      <td>2015-07-31</td>\n",
       "      <td>6301</td>\n",
       "      <td>442</td>\n",
       "      <td>1</td>\n",
       "      <td>1</td>\n",
       "      <td>0</td>\n",
       "      <td>1</td>\n",
       "    </tr>\n",
       "    <tr>\n",
       "      <th>45</th>\n",
       "      <td>46</td>\n",
       "      <td>5</td>\n",
       "      <td>2015-07-31</td>\n",
       "      <td>7628</td>\n",
       "      <td>775</td>\n",
       "      <td>1</td>\n",
       "      <td>1</td>\n",
       "      <td>0</td>\n",
       "      <td>0</td>\n",
       "    </tr>\n",
       "    <tr>\n",
       "      <th>46</th>\n",
       "      <td>47</td>\n",
       "      <td>5</td>\n",
       "      <td>2015-07-31</td>\n",
       "      <td>9379</td>\n",
       "      <td>1021</td>\n",
       "      <td>1</td>\n",
       "      <td>1</td>\n",
       "      <td>0</td>\n",
       "      <td>1</td>\n",
       "    </tr>\n",
       "    <tr>\n",
       "      <th>47</th>\n",
       "      <td>48</td>\n",
       "      <td>5</td>\n",
       "      <td>2015-07-31</td>\n",
       "      <td>3874</td>\n",
       "      <td>390</td>\n",
       "      <td>1</td>\n",
       "      <td>1</td>\n",
       "      <td>0</td>\n",
       "      <td>1</td>\n",
       "    </tr>\n",
       "    <tr>\n",
       "      <th>48</th>\n",
       "      <td>49</td>\n",
       "      <td>5</td>\n",
       "      <td>2015-07-31</td>\n",
       "      <td>10310</td>\n",
       "      <td>666</td>\n",
       "      <td>1</td>\n",
       "      <td>1</td>\n",
       "      <td>0</td>\n",
       "      <td>1</td>\n",
       "    </tr>\n",
       "    <tr>\n",
       "      <th>49</th>\n",
       "      <td>50</td>\n",
       "      <td>5</td>\n",
       "      <td>2015-07-31</td>\n",
       "      <td>5729</td>\n",
       "      <td>441</td>\n",
       "      <td>1</td>\n",
       "      <td>1</td>\n",
       "      <td>0</td>\n",
       "      <td>1</td>\n",
       "    </tr>\n",
       "  </tbody>\n",
       "</table>\n",
       "</div>"
      ],
      "text/plain": [
       "    Store  DayOfWeek        Date  Sales  Customers  Open  Promo StateHoliday  \\\n",
       "0       1          5  2015-07-31   5263        555     1      1            0   \n",
       "1       2          5  2015-07-31   6064        625     1      1            0   \n",
       "2       3          5  2015-07-31   8314        821     1      1            0   \n",
       "3       4          5  2015-07-31  13995       1498     1      1            0   \n",
       "4       5          5  2015-07-31   4822        559     1      1            0   \n",
       "5       6          5  2015-07-31   5651        589     1      1            0   \n",
       "6       7          5  2015-07-31  15344       1414     1      1            0   \n",
       "7       8          5  2015-07-31   8492        833     1      1            0   \n",
       "8       9          5  2015-07-31   8565        687     1      1            0   \n",
       "9      10          5  2015-07-31   7185        681     1      1            0   \n",
       "10     11          5  2015-07-31  10457       1236     1      1            0   \n",
       "11     12          5  2015-07-31   8959        962     1      1            0   \n",
       "12     13          5  2015-07-31   8821        568     1      1            0   \n",
       "13     14          5  2015-07-31   6544        710     1      1            0   \n",
       "14     15          5  2015-07-31   9191        766     1      1            0   \n",
       "15     16          5  2015-07-31  10231        979     1      1            0   \n",
       "16     17          5  2015-07-31   8430        946     1      1            0   \n",
       "17     18          5  2015-07-31  10071        936     1      1            0   \n",
       "18     19          5  2015-07-31   8234        718     1      1            0   \n",
       "19     20          5  2015-07-31   9593        974     1      1            0   \n",
       "20     21          5  2015-07-31   9515        682     1      1            0   \n",
       "21     22          5  2015-07-31   6566        633     1      1            0   \n",
       "22     23          5  2015-07-31   7273        560     1      1            0   \n",
       "23     24          5  2015-07-31  14190       1082     1      1            0   \n",
       "24     25          5  2015-07-31  14180       1586     1      1            0   \n",
       "25     26          5  2015-07-31   7818        611     1      1            0   \n",
       "26     27          5  2015-07-31  13213       1263     1      1            0   \n",
       "27     28          5  2015-07-31   7301        663     1      1            0   \n",
       "28     29          5  2015-07-31   9411        737     1      1            0   \n",
       "29     30          5  2015-07-31   4776        625     1      1            0   \n",
       "30     31          5  2015-07-31   7248        645     1      1            0   \n",
       "31     32          5  2015-07-31   6395        635     1      1            0   \n",
       "32     33          5  2015-07-31  10789        915     1      1            0   \n",
       "33     34          5  2015-07-31  11144       1162     1      1            0   \n",
       "34     35          5  2015-07-31  12412        777     1      1            0   \n",
       "35     36          5  2015-07-31  12422       1251     1      1            0   \n",
       "36     37          5  2015-07-31   9091        888     1      1            0   \n",
       "37     38          5  2015-07-31   7434        608     1      1            0   \n",
       "38     39          5  2015-07-31   8336        929     1      1            0   \n",
       "39     40          5  2015-07-31   5464        678     1      1            0   \n",
       "40     41          5  2015-07-31   6938        494     1      1            0   \n",
       "41     42          5  2015-07-31  11946       1235     1      1            0   \n",
       "42     43          5  2015-07-31   8096        683     1      1            0   \n",
       "43     44          5  2015-07-31   6670        665     1      1            0   \n",
       "44     45          5  2015-07-31   6301        442     1      1            0   \n",
       "45     46          5  2015-07-31   7628        775     1      1            0   \n",
       "46     47          5  2015-07-31   9379       1021     1      1            0   \n",
       "47     48          5  2015-07-31   3874        390     1      1            0   \n",
       "48     49          5  2015-07-31  10310        666     1      1            0   \n",
       "49     50          5  2015-07-31   5729        441     1      1            0   \n",
       "\n",
       "    SchoolHoliday  \n",
       "0               1  \n",
       "1               1  \n",
       "2               1  \n",
       "3               1  \n",
       "4               1  \n",
       "5               1  \n",
       "6               1  \n",
       "7               1  \n",
       "8               1  \n",
       "9               1  \n",
       "10              1  \n",
       "11              1  \n",
       "12              0  \n",
       "13              1  \n",
       "14              1  \n",
       "15              1  \n",
       "16              1  \n",
       "17              1  \n",
       "18              1  \n",
       "19              0  \n",
       "20              1  \n",
       "21              0  \n",
       "22              1  \n",
       "23              1  \n",
       "24              1  \n",
       "25              1  \n",
       "26              1  \n",
       "27              1  \n",
       "28              1  \n",
       "29              1  \n",
       "30              1  \n",
       "31              0  \n",
       "32              1  \n",
       "33              1  \n",
       "34              1  \n",
       "35              0  \n",
       "36              1  \n",
       "37              1  \n",
       "38              1  \n",
       "39              1  \n",
       "40              0  \n",
       "41              1  \n",
       "42              1  \n",
       "43              1  \n",
       "44              1  \n",
       "45              0  \n",
       "46              1  \n",
       "47              1  \n",
       "48              1  \n",
       "49              1  "
      ]
     },
     "execution_count": 5,
     "metadata": {},
     "output_type": "execute_result"
    }
   ],
   "source": [
    "train_data.head(50)"
   ]
  },
  {
   "cell_type": "code",
   "execution_count": 6,
   "id": "a147e40b",
   "metadata": {},
   "outputs": [
    {
     "data": {
      "text/plain": [
       "Store             int64\n",
       "DayOfWeek         int64\n",
       "Date             object\n",
       "Sales             int64\n",
       "Customers         int64\n",
       "Open              int64\n",
       "Promo             int64\n",
       "StateHoliday     object\n",
       "SchoolHoliday     int64\n",
       "dtype: object"
      ]
     },
     "execution_count": 6,
     "metadata": {},
     "output_type": "execute_result"
    }
   ],
   "source": [
    "## Checking Data Types\n",
    "\n",
    "train_data.dtypes"
   ]
  },
  {
   "cell_type": "code",
   "execution_count": 7,
   "id": "1cfab0e6",
   "metadata": {},
   "outputs": [],
   "source": [
    "## We can find discrepancy in data types\n",
    "\n",
    "train_data['Store']=train_data['Store'].astype('object')\n",
    "train_data['DayOfWeek']=train_data['DayOfWeek'].astype('object')\n",
    "train_data['Open']=train_data['Open'].astype('object')\n",
    "train_data['Promo']=train_data['Promo'].astype('object')\n",
    "train_data['SchoolHoliday']=train_data['SchoolHoliday'].astype('object')\n",
    "train_data['StateHoliday']=train_data['StateHoliday'].astype('string')\n",
    "\n",
    "\n",
    "\n"
   ]
  },
  {
   "cell_type": "code",
   "execution_count": 8,
   "id": "cde74742",
   "metadata": {},
   "outputs": [
    {
     "data": {
      "text/plain": [
       "Store            object\n",
       "DayOfWeek        object\n",
       "Date             object\n",
       "Sales             int64\n",
       "Customers         int64\n",
       "Open             object\n",
       "Promo            object\n",
       "StateHoliday     string\n",
       "SchoolHoliday    object\n",
       "dtype: object"
      ]
     },
     "execution_count": 8,
     "metadata": {},
     "output_type": "execute_result"
    }
   ],
   "source": [
    "train_data.dtypes"
   ]
  },
  {
   "cell_type": "code",
   "execution_count": 9,
   "id": "a37db75c",
   "metadata": {},
   "outputs": [
    {
     "data": {
      "text/html": [
       "<div>\n",
       "<style scoped>\n",
       "    .dataframe tbody tr th:only-of-type {\n",
       "        vertical-align: middle;\n",
       "    }\n",
       "\n",
       "    .dataframe tbody tr th {\n",
       "        vertical-align: top;\n",
       "    }\n",
       "\n",
       "    .dataframe thead th {\n",
       "        text-align: right;\n",
       "    }\n",
       "</style>\n",
       "<table border=\"1\" class=\"dataframe\">\n",
       "  <thead>\n",
       "    <tr style=\"text-align: right;\">\n",
       "      <th></th>\n",
       "      <th>Sales</th>\n",
       "      <th>Customers</th>\n",
       "    </tr>\n",
       "  </thead>\n",
       "  <tbody>\n",
       "    <tr>\n",
       "      <th>count</th>\n",
       "      <td>1.017209e+06</td>\n",
       "      <td>1.017209e+06</td>\n",
       "    </tr>\n",
       "    <tr>\n",
       "      <th>mean</th>\n",
       "      <td>5.773819e+03</td>\n",
       "      <td>6.331459e+02</td>\n",
       "    </tr>\n",
       "    <tr>\n",
       "      <th>std</th>\n",
       "      <td>3.849926e+03</td>\n",
       "      <td>4.644117e+02</td>\n",
       "    </tr>\n",
       "    <tr>\n",
       "      <th>min</th>\n",
       "      <td>0.000000e+00</td>\n",
       "      <td>0.000000e+00</td>\n",
       "    </tr>\n",
       "    <tr>\n",
       "      <th>25%</th>\n",
       "      <td>3.727000e+03</td>\n",
       "      <td>4.050000e+02</td>\n",
       "    </tr>\n",
       "    <tr>\n",
       "      <th>50%</th>\n",
       "      <td>5.744000e+03</td>\n",
       "      <td>6.090000e+02</td>\n",
       "    </tr>\n",
       "    <tr>\n",
       "      <th>75%</th>\n",
       "      <td>7.856000e+03</td>\n",
       "      <td>8.370000e+02</td>\n",
       "    </tr>\n",
       "    <tr>\n",
       "      <th>max</th>\n",
       "      <td>4.155100e+04</td>\n",
       "      <td>7.388000e+03</td>\n",
       "    </tr>\n",
       "  </tbody>\n",
       "</table>\n",
       "</div>"
      ],
      "text/plain": [
       "              Sales     Customers\n",
       "count  1.017209e+06  1.017209e+06\n",
       "mean   5.773819e+03  6.331459e+02\n",
       "std    3.849926e+03  4.644117e+02\n",
       "min    0.000000e+00  0.000000e+00\n",
       "25%    3.727000e+03  4.050000e+02\n",
       "50%    5.744000e+03  6.090000e+02\n",
       "75%    7.856000e+03  8.370000e+02\n",
       "max    4.155100e+04  7.388000e+03"
      ]
     },
     "execution_count": 9,
     "metadata": {},
     "output_type": "execute_result"
    }
   ],
   "source": [
    "## Description\n",
    "\n",
    "train_data.describe()"
   ]
  },
  {
   "cell_type": "code",
   "execution_count": 10,
   "id": "42f60089",
   "metadata": {},
   "outputs": [
    {
     "data": {
      "text/html": [
       "<div>\n",
       "<style scoped>\n",
       "    .dataframe tbody tr th:only-of-type {\n",
       "        vertical-align: middle;\n",
       "    }\n",
       "\n",
       "    .dataframe tbody tr th {\n",
       "        vertical-align: top;\n",
       "    }\n",
       "\n",
       "    .dataframe thead th {\n",
       "        text-align: right;\n",
       "    }\n",
       "</style>\n",
       "<table border=\"1\" class=\"dataframe\">\n",
       "  <thead>\n",
       "    <tr style=\"text-align: right;\">\n",
       "      <th></th>\n",
       "      <th>Sales</th>\n",
       "      <th>Customers</th>\n",
       "    </tr>\n",
       "  </thead>\n",
       "  <tbody>\n",
       "    <tr>\n",
       "      <th>Sales</th>\n",
       "      <td>1.000000</td>\n",
       "      <td>0.894711</td>\n",
       "    </tr>\n",
       "    <tr>\n",
       "      <th>Customers</th>\n",
       "      <td>0.894711</td>\n",
       "      <td>1.000000</td>\n",
       "    </tr>\n",
       "  </tbody>\n",
       "</table>\n",
       "</div>"
      ],
      "text/plain": [
       "              Sales  Customers\n",
       "Sales      1.000000   0.894711\n",
       "Customers  0.894711   1.000000"
      ]
     },
     "execution_count": 10,
     "metadata": {},
     "output_type": "execute_result"
    }
   ],
   "source": [
    "## Finding the Correlation Between Customers and Sales\n",
    "\n",
    "train_data.corr()"
   ]
  },
  {
   "cell_type": "markdown",
   "id": "5d3012b6",
   "metadata": {},
   "source": [
    "From the Correlation Table we can see that there is a very high correlation between Number of Customers and Sales"
   ]
  },
  {
   "cell_type": "code",
   "execution_count": 11,
   "id": "22188989",
   "metadata": {},
   "outputs": [],
   "source": [
    "## Seperating Categorical and Numerical Columns\n",
    "\n",
    "categorical_cols=[]\n",
    "numerical_cols=[]\n",
    "for col in train_data.columns:\n",
    "  if train_data[col].dtypes == \"object\":\n",
    "    categorical_cols.append(col)\n",
    "  elif train_data[col].dtypes == \"string\":\n",
    "    categorical_cols.append(col)\n",
    "  elif train_data[col].dtypes != \"object\":\n",
    "    numerical_cols.append(col)"
   ]
  },
  {
   "cell_type": "code",
   "execution_count": 12,
   "id": "8a09909f",
   "metadata": {},
   "outputs": [
    {
     "data": {
      "text/plain": [
       "['Store',\n",
       " 'DayOfWeek',\n",
       " 'Date',\n",
       " 'Open',\n",
       " 'Promo',\n",
       " 'StateHoliday',\n",
       " 'SchoolHoliday']"
      ]
     },
     "execution_count": 12,
     "metadata": {},
     "output_type": "execute_result"
    }
   ],
   "source": [
    "categorical_cols"
   ]
  },
  {
   "cell_type": "code",
   "execution_count": 13,
   "id": "ef4af975",
   "metadata": {},
   "outputs": [
    {
     "data": {
      "text/plain": [
       "['Sales', 'Customers']"
      ]
     },
     "execution_count": 13,
     "metadata": {},
     "output_type": "execute_result"
    }
   ],
   "source": [
    "numerical_cols"
   ]
  },
  {
   "cell_type": "code",
   "execution_count": 14,
   "id": "3b7d3aa8",
   "metadata": {},
   "outputs": [
    {
     "data": {
      "text/plain": [
       "<AxesSubplot:xlabel='Customers'>"
      ]
     },
     "execution_count": 14,
     "metadata": {},
     "output_type": "execute_result"
    },
    {
     "data": {
      "image/png": "[encoded data removed]",
      "text/plain": [
       "<Figure size 432x288 with 1 Axes>"
      ]
     },
     "metadata": {
      "needs_background": "light"
     },
     "output_type": "display_data"
    }
   ],
   "source": [
    "## Checking for Outliners and Dealing them..\n",
    "\n",
    "sns.boxplot(train_data.Customers)"
   ]
  },
  {
   "cell_type": "code",
   "execution_count": 15,
   "id": "93be6391",
   "metadata": {},
   "outputs": [
    {
     "data": {
      "text/plain": [
       "<AxesSubplot:xlabel='Sales'>"
      ]
     },
     "execution_count": 15,
     "metadata": {},
     "output_type": "execute_result"
    },
    {
     "data": {
      "image/png": "[encoded data removed]",
      "text/plain": [
       "<Figure size 432x288 with 1 Axes>"
      ]
     },
     "metadata": {
      "needs_background": "light"
     },
     "output_type": "display_data"
    }
   ],
   "source": [
    "sns.boxplot(train_data.Sales)"
   ]
  },
  {
   "cell_type": "code",
   "execution_count": 16,
   "id": "0503ce01",
   "metadata": {},
   "outputs": [],
   "source": [
    "train_data.Sales[train_data.Sales>38000]  = 38000"
   ]
  },
  {
   "cell_type": "code",
   "execution_count": 17,
   "id": "519ae662",
   "metadata": {},
   "outputs": [],
   "source": [
    "train_data.Customers[train_data.Customers>5000]  = 5000"
   ]
  },
  {
   "cell_type": "code",
   "execution_count": 18,
   "id": "34a95071",
   "metadata": {},
   "outputs": [
    {
     "data": {
      "text/plain": [
       "<AxesSubplot:xlabel='Sales'>"
      ]
     },
     "execution_count": 18,
     "metadata": {},
     "output_type": "execute_result"
    },
    {
     "data": {
      "image/png": "[encoded data removed]",
      "text/plain": [
       "<Figure size 432x288 with 1 Axes>"
      ]
     },
     "metadata": {
      "needs_background": "light"
     },
     "output_type": "display_data"
    }
   ],
   "source": [
    "sns.boxplot(train_data.Sales)"
   ]
  },
  {
   "cell_type": "code",
   "execution_count": 19,
   "id": "7012ee42",
   "metadata": {},
   "outputs": [
    {
     "data": {
      "text/plain": [
       "<AxesSubplot:xlabel='Customers'>"
      ]
     },
     "execution_count": 19,
     "metadata": {},
     "output_type": "execute_result"
    },
    {
     "data": {
      "image/png": "[encoded data removed]",
      "text/plain": [
       "<Figure size 432x288 with 1 Axes>"
      ]
     },
     "metadata": {
      "needs_background": "light"
     },
     "output_type": "display_data"
    }
   ],
   "source": [
    "sns.boxplot(train_data.Customers)"
   ]
  },
  {
   "cell_type": "code",
   "execution_count": 20,
   "id": "89d97626",
   "metadata": {},
   "outputs": [
    {
     "data": {
      "text/plain": [
       "Store            0\n",
       "DayOfWeek        0\n",
       "Date             0\n",
       "Sales            0\n",
       "Customers        0\n",
       "Open             0\n",
       "Promo            0\n",
       "StateHoliday     0\n",
       "SchoolHoliday    0\n",
       "dtype: int64"
      ]
     },
     "execution_count": 20,
     "metadata": {},
     "output_type": "execute_result"
    }
   ],
   "source": [
    "train_data.isnull().sum()"
   ]
  },
  {
   "cell_type": "markdown",
   "id": "aa9a11b7",
   "metadata": {},
   "source": [
    "There Are No Null Values"
   ]
  },
  {
   "cell_type": "markdown",
   "id": "3ef36eb4",
   "metadata": {},
   "source": [
    " Outliers are dealt"
   ]
  },
  {
   "cell_type": "code",
   "execution_count": 21,
   "id": "d1d445aa",
   "metadata": {},
   "outputs": [
    {
     "name": "stdout",
     "output_type": "stream",
     "text": [
      "**************************************************\n",
      "Top 10 categories for Store\n",
      "1      942\n",
      "261    942\n",
      "248    942\n",
      "249    942\n",
      "250    942\n",
      "251    942\n",
      "252    942\n",
      "253    942\n",
      "254    942\n",
      "255    942\n",
      "Name: Store, dtype: int64\n"
     ]
    },
    {
     "data": {
      "image/png": "[encoded data removed]",
      "text/plain": [
       "<Figure size 720x576 with 1 Axes>"
      ]
     },
     "metadata": {
      "needs_background": "light"
     },
     "output_type": "display_data"
    },
    {
     "name": "stdout",
     "output_type": "stream",
     "text": [
      "**************************************************\n",
      "**************************************************\n",
      "Top 10 categories for DayOfWeek\n",
      "5    145845\n",
      "4    145845\n",
      "3    145665\n",
      "2    145664\n",
      "1    144730\n",
      "7    144730\n",
      "6    144730\n",
      "Name: DayOfWeek, dtype: int64\n"
     ]
    },
    {
     "data": {
      "text/plain": [
       "<Figure size 432x288 with 0 Axes>"
      ]
     },
     "metadata": {},
     "output_type": "display_data"
    },
    {
     "data": {
      "image/png": "[encoded data removed]",
      "text/plain": [
       "<Figure size 720x576 with 1 Axes>"
      ]
     },
     "metadata": {
      "needs_background": "light"
     },
     "output_type": "display_data"
    },
    {
     "name": "stdout",
     "output_type": "stream",
     "text": [
      "**************************************************\n",
      "**************************************************\n",
      "Top 10 categories for Date\n",
      "2015-07-31    1115\n",
      "2015-05-13    1115\n",
      "2015-03-22    1115\n",
      "2015-03-23    1115\n",
      "2015-03-24    1115\n",
      "2015-03-25    1115\n",
      "2015-03-26    1115\n",
      "2015-03-27    1115\n",
      "2015-04-15    1115\n",
      "2015-04-17    1115\n",
      "Name: Date, dtype: int64\n"
     ]
    },
    {
     "data": {
      "text/plain": [
       "<Figure size 432x288 with 0 Axes>"
      ]
     },
     "metadata": {},
     "output_type": "display_data"
    },
    {
     "data": {
      "image/png": "[encoded data removed]",
      "text/plain": [
       "<Figure size 720x576 with 1 Axes>"
      ]
     },
     "metadata": {
      "needs_background": "light"
     },
     "output_type": "display_data"
    },
    {
     "name": "stdout",
     "output_type": "stream",
     "text": [
      "**************************************************\n",
      "**************************************************\n",
      "Top 10 categories for Open\n",
      "1    844392\n",
      "0    172817\n",
      "Name: Open, dtype: int64\n"
     ]
    },
    {
     "data": {
      "text/plain": [
       "<Figure size 432x288 with 0 Axes>"
      ]
     },
     "metadata": {},
     "output_type": "display_data"
    },
    {
     "data": {
      "image/png": "[encoded data removed]",
      "text/plain": [
       "<Figure size 720x576 with 1 Axes>"
      ]
     },
     "metadata": {
      "needs_background": "light"
     },
     "output_type": "display_data"
    },
    {
     "name": "stdout",
     "output_type": "stream",
     "text": [
      "**************************************************\n",
      "**************************************************\n",
      "Top 10 categories for Promo\n",
      "0    629129\n",
      "1    388080\n",
      "Name: Promo, dtype: int64\n"
     ]
    },
    {
     "data": {
      "text/plain": [
       "<Figure size 432x288 with 0 Axes>"
      ]
     },
     "metadata": {},
     "output_type": "display_data"
    },
    {
     "data": {
      "image/png": "[encoded data removed]",
      "text/plain": [
       "<Figure size 720x576 with 1 Axes>"
      ]
     },
     "metadata": {
      "needs_background": "light"
     },
     "output_type": "display_data"
    },
    {
     "name": "stdout",
     "output_type": "stream",
     "text": [
      "**************************************************\n",
      "**************************************************\n",
      "Top 10 categories for StateHoliday\n",
      "0    986159\n",
      "a     20260\n",
      "b      6690\n",
      "c      4100\n",
      "Name: StateHoliday, dtype: Int64\n"
     ]
    },
    {
     "data": {
      "text/plain": [
       "<Figure size 432x288 with 0 Axes>"
      ]
     },
     "metadata": {},
     "output_type": "display_data"
    },
    {
     "data": {
      "image/png": "[encoded data removed]",
      "text/plain": [
       "<Figure size 720x576 with 1 Axes>"
      ]
     },
     "metadata": {
      "needs_background": "light"
     },
     "output_type": "display_data"
    },
    {
     "name": "stdout",
     "output_type": "stream",
     "text": [
      "**************************************************\n",
      "**************************************************\n",
      "Top 10 categories for SchoolHoliday\n",
      "0    835488\n",
      "1    181721\n",
      "Name: SchoolHoliday, dtype: int64\n"
     ]
    },
    {
     "data": {
      "text/plain": [
       "<Figure size 432x288 with 0 Axes>"
      ]
     },
     "metadata": {},
     "output_type": "display_data"
    },
    {
     "data": {
      "image/png": "[encoded data removed]",
      "text/plain": [
       "<Figure size 720x576 with 1 Axes>"
      ]
     },
     "metadata": {
      "needs_background": "light"
     },
     "output_type": "display_data"
    },
    {
     "name": "stdout",
     "output_type": "stream",
     "text": [
      "**************************************************\n"
     ]
    },
    {
     "data": {
      "text/plain": [
       "<Figure size 432x288 with 0 Axes>"
      ]
     },
     "metadata": {},
     "output_type": "display_data"
    }
   ],
   "source": [
    "## Taking out Top 10 Categories and Making a bar Chart\n",
    "\n",
    "for col in categorical_cols:\n",
    "    print(\"*\"*50)\n",
    "    print(\"Top 10 categories for {}\".format(col))\n",
    "    print(train_data[col].value_counts().sort_values(ascending = False).head(10))\n",
    "    index = train_data[col].value_counts().sort_values(ascending = False).head(10).index\n",
    "    values = train_data[col].value_counts().sort_values(ascending = False).head(10).values\n",
    "    plt.figure(figsize = [10,8])\n",
    "    plt.barh(index,values)\n",
    "    plt.xlabel(col)\n",
    "    plt.ylabel(\"Count of {}\".format(col))\n",
    "    plt.title(\"Top 10 categories for {}\".format(col))\n",
    "    plt.grid()\n",
    "    plt.show();\n",
    "    print(\"*\"*50)\n",
    "    plt.savefig(\"Top_10_categories_for_{}.png\".format(col))"
   ]
  },
  {
   "cell_type": "code",
   "execution_count": 22,
   "id": "e99993ac",
   "metadata": {},
   "outputs": [
    {
     "name": "stdout",
     "output_type": "stream",
     "text": [
      "1      942\n",
      "726    942\n",
      "708    942\n",
      "709    942\n",
      "713    942\n",
      "      ... \n",
      "159    758\n",
      "637    758\n",
      "636    758\n",
      "633    758\n",
      "155    758\n",
      "Name: Store, Length: 1115, dtype: int64\n",
      "5    145845\n",
      "4    145845\n",
      "3    145665\n",
      "2    145664\n",
      "1    144730\n",
      "7    144730\n",
      "6    144730\n",
      "Name: DayOfWeek, dtype: int64\n",
      "2015-07-31    1115\n",
      "2013-11-06    1115\n",
      "2013-11-18    1115\n",
      "2013-11-17    1115\n",
      "2013-11-16    1115\n",
      "              ... \n",
      "2014-10-28     935\n",
      "2014-10-27     935\n",
      "2014-10-26     935\n",
      "2014-10-25     935\n",
      "2014-12-08     935\n",
      "Name: Date, Length: 942, dtype: int64\n",
      "0        172871\n",
      "5674        215\n",
      "5558        197\n",
      "5483        196\n",
      "6214        195\n",
      "          ...  \n",
      "892           1\n",
      "876           1\n",
      "20653         1\n",
      "21355         1\n",
      "23303         1\n",
      "Name: Sales, Length: 21729, dtype: int64\n",
      "0       172869\n",
      "560       2414\n",
      "576       2363\n",
      "603       2337\n",
      "571       2330\n",
      "         ...  \n",
      "3657         1\n",
      "3689         1\n",
      "4382         1\n",
      "4036         1\n",
      "4065         1\n",
      "Name: Customers, Length: 4068, dtype: int64\n",
      "1    844392\n",
      "0    172817\n",
      "Name: Open, dtype: int64\n",
      "0    629129\n",
      "1    388080\n",
      "Name: Promo, dtype: int64\n",
      "0    986159\n",
      "a     20260\n",
      "b      6690\n",
      "c      4100\n",
      "Name: StateHoliday, dtype: Int64\n",
      "0    835488\n",
      "1    181721\n",
      "Name: SchoolHoliday, dtype: int64\n"
     ]
    }
   ],
   "source": [
    "### Checking for the elements of the Columns\n",
    "\n",
    "for i in train_data.columns:\n",
    "  print(train_data[i].value_counts())\n"
   ]
  },
  {
   "cell_type": "code",
   "execution_count": 23,
   "id": "79be9683",
   "metadata": {},
   "outputs": [
    {
     "data": {
      "text/html": [
       "<div>\n",
       "<style scoped>\n",
       "    .dataframe tbody tr th:only-of-type {\n",
       "        vertical-align: middle;\n",
       "    }\n",
       "\n",
       "    .dataframe tbody tr th {\n",
       "        vertical-align: top;\n",
       "    }\n",
       "\n",
       "    .dataframe thead th {\n",
       "        text-align: right;\n",
       "    }\n",
       "</style>\n",
       "<table border=\"1\" class=\"dataframe\">\n",
       "  <thead>\n",
       "    <tr style=\"text-align: right;\">\n",
       "      <th></th>\n",
       "      <th>Store</th>\n",
       "      <th>DayOfWeek</th>\n",
       "      <th>Date</th>\n",
       "      <th>Sales</th>\n",
       "      <th>Customers</th>\n",
       "      <th>Open</th>\n",
       "      <th>Promo</th>\n",
       "      <th>StateHoliday</th>\n",
       "      <th>SchoolHoliday</th>\n",
       "    </tr>\n",
       "  </thead>\n",
       "  <tbody>\n",
       "    <tr>\n",
       "      <th>0</th>\n",
       "      <td>1</td>\n",
       "      <td>5</td>\n",
       "      <td>2015-07-31</td>\n",
       "      <td>5263</td>\n",
       "      <td>555</td>\n",
       "      <td>1</td>\n",
       "      <td>1</td>\n",
       "      <td>0</td>\n",
       "      <td>1</td>\n",
       "    </tr>\n",
       "    <tr>\n",
       "      <th>1</th>\n",
       "      <td>2</td>\n",
       "      <td>5</td>\n",
       "      <td>2015-07-31</td>\n",
       "      <td>6064</td>\n",
       "      <td>625</td>\n",
       "      <td>1</td>\n",
       "      <td>1</td>\n",
       "      <td>0</td>\n",
       "      <td>1</td>\n",
       "    </tr>\n",
       "    <tr>\n",
       "      <th>2</th>\n",
       "      <td>3</td>\n",
       "      <td>5</td>\n",
       "      <td>2015-07-31</td>\n",
       "      <td>8314</td>\n",
       "      <td>821</td>\n",
       "      <td>1</td>\n",
       "      <td>1</td>\n",
       "      <td>0</td>\n",
       "      <td>1</td>\n",
       "    </tr>\n",
       "    <tr>\n",
       "      <th>3</th>\n",
       "      <td>4</td>\n",
       "      <td>5</td>\n",
       "      <td>2015-07-31</td>\n",
       "      <td>13995</td>\n",
       "      <td>1498</td>\n",
       "      <td>1</td>\n",
       "      <td>1</td>\n",
       "      <td>0</td>\n",
       "      <td>1</td>\n",
       "    </tr>\n",
       "    <tr>\n",
       "      <th>4</th>\n",
       "      <td>5</td>\n",
       "      <td>5</td>\n",
       "      <td>2015-07-31</td>\n",
       "      <td>4822</td>\n",
       "      <td>559</td>\n",
       "      <td>1</td>\n",
       "      <td>1</td>\n",
       "      <td>0</td>\n",
       "      <td>1</td>\n",
       "    </tr>\n",
       "    <tr>\n",
       "      <th>...</th>\n",
       "      <td>...</td>\n",
       "      <td>...</td>\n",
       "      <td>...</td>\n",
       "      <td>...</td>\n",
       "      <td>...</td>\n",
       "      <td>...</td>\n",
       "      <td>...</td>\n",
       "      <td>...</td>\n",
       "      <td>...</td>\n",
       "    </tr>\n",
       "    <tr>\n",
       "      <th>1017204</th>\n",
       "      <td>1111</td>\n",
       "      <td>2</td>\n",
       "      <td>2013-01-01</td>\n",
       "      <td>0</td>\n",
       "      <td>0</td>\n",
       "      <td>0</td>\n",
       "      <td>0</td>\n",
       "      <td>a</td>\n",
       "      <td>1</td>\n",
       "    </tr>\n",
       "    <tr>\n",
       "      <th>1017205</th>\n",
       "      <td>1112</td>\n",
       "      <td>2</td>\n",
       "      <td>2013-01-01</td>\n",
       "      <td>0</td>\n",
       "      <td>0</td>\n",
       "      <td>0</td>\n",
       "      <td>0</td>\n",
       "      <td>a</td>\n",
       "      <td>1</td>\n",
       "    </tr>\n",
       "    <tr>\n",
       "      <th>1017206</th>\n",
       "      <td>1113</td>\n",
       "      <td>2</td>\n",
       "      <td>2013-01-01</td>\n",
       "      <td>0</td>\n",
       "      <td>0</td>\n",
       "      <td>0</td>\n",
       "      <td>0</td>\n",
       "      <td>a</td>\n",
       "      <td>1</td>\n",
       "    </tr>\n",
       "    <tr>\n",
       "      <th>1017207</th>\n",
       "      <td>1114</td>\n",
       "      <td>2</td>\n",
       "      <td>2013-01-01</td>\n",
       "      <td>0</td>\n",
       "      <td>0</td>\n",
       "      <td>0</td>\n",
       "      <td>0</td>\n",
       "      <td>a</td>\n",
       "      <td>1</td>\n",
       "    </tr>\n",
       "    <tr>\n",
       "      <th>1017208</th>\n",
       "      <td>1115</td>\n",
       "      <td>2</td>\n",
       "      <td>2013-01-01</td>\n",
       "      <td>0</td>\n",
       "      <td>0</td>\n",
       "      <td>0</td>\n",
       "      <td>0</td>\n",
       "      <td>a</td>\n",
       "      <td>1</td>\n",
       "    </tr>\n",
       "  </tbody>\n",
       "</table>\n",
       "<p>1017209 rows × 9 columns</p>\n",
       "</div>"
      ],
      "text/plain": [
       "        Store DayOfWeek        Date  Sales  Customers Open Promo StateHoliday  \\\n",
       "0           1         5  2015-07-31   5263        555    1     1            0   \n",
       "1           2         5  2015-07-31   6064        625    1     1            0   \n",
       "2           3         5  2015-07-31   8314        821    1     1            0   \n",
       "3           4         5  2015-07-31  13995       1498    1     1            0   \n",
       "4           5         5  2015-07-31   4822        559    1     1            0   \n",
       "...       ...       ...         ...    ...        ...  ...   ...          ...   \n",
       "1017204  1111         2  2013-01-01      0          0    0     0            a   \n",
       "1017205  1112         2  2013-01-01      0          0    0     0            a   \n",
       "1017206  1113         2  2013-01-01      0          0    0     0            a   \n",
       "1017207  1114         2  2013-01-01      0          0    0     0            a   \n",
       "1017208  1115         2  2013-01-01      0          0    0     0            a   \n",
       "\n",
       "        SchoolHoliday  \n",
       "0                   1  \n",
       "1                   1  \n",
       "2                   1  \n",
       "3                   1  \n",
       "4                   1  \n",
       "...               ...  \n",
       "1017204             1  \n",
       "1017205             1  \n",
       "1017206             1  \n",
       "1017207             1  \n",
       "1017208             1  \n",
       "\n",
       "[1017209 rows x 9 columns]"
      ]
     },
     "execution_count": 23,
     "metadata": {},
     "output_type": "execute_result"
    }
   ],
   "source": [
    "train_data"
   ]
  },
  {
   "cell_type": "code",
   "execution_count": 19,
   "id": "a7245b5b",
   "metadata": {},
   "outputs": [],
   "source": [
    "## Test Data\n",
    "\n",
    "test_data = pd.read_csv('test.csv')"
   ]
  },
  {
   "cell_type": "code",
   "execution_count": 20,
   "id": "6b269ded",
   "metadata": {},
   "outputs": [
    {
     "data": {
      "text/plain": [
       "(41088, 8)"
      ]
     },
     "execution_count": 20,
     "metadata": {},
     "output_type": "execute_result"
    }
   ],
   "source": [
    "test_data.shape"
   ]
  },
  {
   "cell_type": "code",
   "execution_count": 26,
   "id": "0957cfd4",
   "metadata": {},
   "outputs": [
    {
     "data": {
      "text/html": [
       "<div>\n",
       "<style scoped>\n",
       "    .dataframe tbody tr th:only-of-type {\n",
       "        vertical-align: middle;\n",
       "    }\n",
       "\n",
       "    .dataframe tbody tr th {\n",
       "        vertical-align: top;\n",
       "    }\n",
       "\n",
       "    .dataframe thead th {\n",
       "        text-align: right;\n",
       "    }\n",
       "</style>\n",
       "<table border=\"1\" class=\"dataframe\">\n",
       "  <thead>\n",
       "    <tr style=\"text-align: right;\">\n",
       "      <th></th>\n",
       "      <th>Id</th>\n",
       "      <th>Store</th>\n",
       "      <th>DayOfWeek</th>\n",
       "      <th>Date</th>\n",
       "      <th>Open</th>\n",
       "      <th>Promo</th>\n",
       "      <th>StateHoliday</th>\n",
       "      <th>SchoolHoliday</th>\n",
       "    </tr>\n",
       "  </thead>\n",
       "  <tbody>\n",
       "    <tr>\n",
       "      <th>0</th>\n",
       "      <td>1</td>\n",
       "      <td>1</td>\n",
       "      <td>4</td>\n",
       "      <td>2015-09-17</td>\n",
       "      <td>1.0</td>\n",
       "      <td>1</td>\n",
       "      <td>0</td>\n",
       "      <td>0</td>\n",
       "    </tr>\n",
       "    <tr>\n",
       "      <th>1</th>\n",
       "      <td>2</td>\n",
       "      <td>3</td>\n",
       "      <td>4</td>\n",
       "      <td>2015-09-17</td>\n",
       "      <td>1.0</td>\n",
       "      <td>1</td>\n",
       "      <td>0</td>\n",
       "      <td>0</td>\n",
       "    </tr>\n",
       "    <tr>\n",
       "      <th>2</th>\n",
       "      <td>3</td>\n",
       "      <td>7</td>\n",
       "      <td>4</td>\n",
       "      <td>2015-09-17</td>\n",
       "      <td>1.0</td>\n",
       "      <td>1</td>\n",
       "      <td>0</td>\n",
       "      <td>0</td>\n",
       "    </tr>\n",
       "    <tr>\n",
       "      <th>3</th>\n",
       "      <td>4</td>\n",
       "      <td>8</td>\n",
       "      <td>4</td>\n",
       "      <td>2015-09-17</td>\n",
       "      <td>1.0</td>\n",
       "      <td>1</td>\n",
       "      <td>0</td>\n",
       "      <td>0</td>\n",
       "    </tr>\n",
       "    <tr>\n",
       "      <th>4</th>\n",
       "      <td>5</td>\n",
       "      <td>9</td>\n",
       "      <td>4</td>\n",
       "      <td>2015-09-17</td>\n",
       "      <td>1.0</td>\n",
       "      <td>1</td>\n",
       "      <td>0</td>\n",
       "      <td>0</td>\n",
       "    </tr>\n",
       "  </tbody>\n",
       "</table>\n",
       "</div>"
      ],
      "text/plain": [
       "   Id  Store  DayOfWeek        Date  Open  Promo StateHoliday  SchoolHoliday\n",
       "0   1      1          4  2015-09-17   1.0      1            0              0\n",
       "1   2      3          4  2015-09-17   1.0      1            0              0\n",
       "2   3      7          4  2015-09-17   1.0      1            0              0\n",
       "3   4      8          4  2015-09-17   1.0      1            0              0\n",
       "4   5      9          4  2015-09-17   1.0      1            0              0"
      ]
     },
     "execution_count": 26,
     "metadata": {},
     "output_type": "execute_result"
    }
   ],
   "source": [
    "test_data.head()"
   ]
  },
  {
   "cell_type": "code",
   "execution_count": 27,
   "id": "7246fd02",
   "metadata": {},
   "outputs": [
    {
     "data": {
      "text/plain": [
       "Id                 int64\n",
       "Store              int64\n",
       "DayOfWeek          int64\n",
       "Date              object\n",
       "Open             float64\n",
       "Promo              int64\n",
       "StateHoliday      object\n",
       "SchoolHoliday      int64\n",
       "dtype: object"
      ]
     },
     "execution_count": 27,
     "metadata": {},
     "output_type": "execute_result"
    }
   ],
   "source": [
    "test_data.dtypes"
   ]
  },
  {
   "cell_type": "code",
   "execution_count": 28,
   "id": "025cecd8",
   "metadata": {},
   "outputs": [],
   "source": [
    "## We can find discrepancy in data types\n",
    "\n",
    "test_data['Id']=test_data['Id'].astype('object')\n",
    "test_data['Store']=test_data['Store'].astype('object')\n",
    "test_data['DayOfWeek']=test_data['DayOfWeek'].astype('object')\n",
    "test_data['Open']=test_data['Open'].astype('object')\n",
    "test_data['Promo']=test_data['Promo'].astype('object')\n",
    "test_data['SchoolHoliday']=test_data['SchoolHoliday'].astype('object')\n"
   ]
  },
  {
   "cell_type": "code",
   "execution_count": 29,
   "id": "51647193",
   "metadata": {},
   "outputs": [
    {
     "data": {
      "text/plain": [
       "Id               object\n",
       "Store            object\n",
       "DayOfWeek        object\n",
       "Date             object\n",
       "Open             object\n",
       "Promo            object\n",
       "StateHoliday     object\n",
       "SchoolHoliday    object\n",
       "dtype: object"
      ]
     },
     "execution_count": 29,
     "metadata": {},
     "output_type": "execute_result"
    }
   ],
   "source": [
    "test_data.dtypes"
   ]
  },
  {
   "cell_type": "code",
   "execution_count": 30,
   "id": "0cc8a79f",
   "metadata": {},
   "outputs": [
    {
     "name": "stdout",
     "output_type": "stream",
     "text": [
      "1        1\n",
      "27446    1\n",
      "27388    1\n",
      "27389    1\n",
      "27390    1\n",
      "        ..\n",
      "13698    1\n",
      "13699    1\n",
      "13700    1\n",
      "13701    1\n",
      "41088    1\n",
      "Name: Id, Length: 41088, dtype: int64\n",
      "1       48\n",
      "727     48\n",
      "729     48\n",
      "731     48\n",
      "732     48\n",
      "        ..\n",
      "373     48\n",
      "377     48\n",
      "378     48\n",
      "379     48\n",
      "1115    48\n",
      "Name: Store, Length: 856, dtype: int64\n",
      "4    5992\n",
      "3    5992\n",
      "2    5992\n",
      "1    5992\n",
      "7    5992\n",
      "6    5992\n",
      "5    5136\n",
      "Name: DayOfWeek, dtype: int64\n",
      "2015-09-17    856\n",
      "2015-09-16    856\n",
      "2015-08-22    856\n",
      "2015-08-21    856\n",
      "2015-08-20    856\n",
      "2015-08-19    856\n",
      "2015-08-18    856\n",
      "2015-08-17    856\n",
      "2015-08-16    856\n",
      "2015-08-15    856\n",
      "2015-08-14    856\n",
      "2015-08-13    856\n",
      "2015-08-12    856\n",
      "2015-08-11    856\n",
      "2015-08-10    856\n",
      "2015-08-09    856\n",
      "2015-08-08    856\n",
      "2015-08-07    856\n",
      "2015-08-06    856\n",
      "2015-08-05    856\n",
      "2015-08-04    856\n",
      "2015-08-03    856\n",
      "2015-08-02    856\n",
      "2015-08-23    856\n",
      "2015-08-24    856\n",
      "2015-08-25    856\n",
      "2015-09-06    856\n",
      "2015-09-15    856\n",
      "2015-09-14    856\n",
      "2015-09-13    856\n",
      "2015-09-12    856\n",
      "2015-09-11    856\n",
      "2015-09-10    856\n",
      "2015-09-09    856\n",
      "2015-09-08    856\n",
      "2015-09-07    856\n",
      "2015-09-05    856\n",
      "2015-08-26    856\n",
      "2015-09-04    856\n",
      "2015-09-03    856\n",
      "2015-09-02    856\n",
      "2015-09-01    856\n",
      "2015-08-31    856\n",
      "2015-08-30    856\n",
      "2015-08-29    856\n",
      "2015-08-28    856\n",
      "2015-08-27    856\n",
      "2015-08-01    856\n",
      "Name: Date, dtype: int64\n",
      "1.0    35093\n",
      "0.0     5984\n",
      "Name: Open, dtype: int64\n",
      "0    24824\n",
      "1    16264\n",
      "Name: Promo, dtype: int64\n",
      "0    40908\n",
      "a      180\n",
      "Name: StateHoliday, dtype: int64\n",
      "0    22866\n",
      "1    18222\n",
      "Name: SchoolHoliday, dtype: int64\n"
     ]
    }
   ],
   "source": [
    "### Checking for the elements of the Columns\n",
    "\n",
    "for i in test_data.columns:\n",
    "  print(test_data[i].value_counts())\n"
   ]
  },
  {
   "cell_type": "markdown",
   "id": "8719d45d",
   "metadata": {},
   "source": [
    "### Checking the Promotion Distribution"
   ]
  },
  {
   "cell_type": "code",
   "execution_count": 31,
   "id": "dc8bb132",
   "metadata": {},
   "outputs": [
    {
     "data": {
      "image/png": "[encoded data removed]",
      "text/plain": [
       "<Figure size 432x288 with 2 Axes>"
      ]
     },
     "metadata": {
      "needs_background": "light"
     },
     "output_type": "display_data"
    }
   ],
   "source": [
    "train_data_promo = train_data['Promo'].value_counts()\n",
    "test_data_promo = test_data['Promo'].value_counts()\n",
    "\n",
    "plt.subplot(1,2,1)\n",
    "plt.barh(train_data_promo.index,train_data_promo.values)\n",
    "plt.title(\"Train Data Promo \")\n",
    "plt.subplot(1,2,2)\n",
    "plt.barh(test_data_promo.index,test_data_promo.values)\n",
    "plt.title(\"Test Data Promo\")\n",
    "plt.savefig('Promo Distribution train and test chart.png')"
   ]
  },
  {
   "cell_type": "markdown",
   "id": "ff509ca1",
   "metadata": {},
   "source": [
    "By the above subplots we can see Promotions are distributed similarly"
   ]
  },
  {
   "cell_type": "code",
   "execution_count": 32,
   "id": "9505edde",
   "metadata": {},
   "outputs": [],
   "source": [
    "sample=pd.read_csv(\"sample_submission.csv\")"
   ]
  },
  {
   "cell_type": "code",
   "execution_count": 33,
   "id": "e3641f26",
   "metadata": {},
   "outputs": [],
   "source": [
    "store=pd.read_csv('store.csv')"
   ]
  },
  {
   "cell_type": "code",
   "execution_count": null,
   "id": "bf65e7f5",
   "metadata": {},
   "outputs": [],
   "source": []
  },
  {
   "cell_type": "markdown",
   "id": "420b80c5",
   "metadata": {},
   "source": [
    "### Checking Sales Behavior as per Holidays"
   ]
  },
  {
   "cell_type": "code",
   "execution_count": 34,
   "id": "71f4f429",
   "metadata": {},
   "outputs": [
    {
     "name": "stdout",
     "output_type": "stream",
     "text": [
      "<StringArray>\n",
      "['0', 'a', 'b', 'c']\n",
      "Length: 4, dtype: string\n"
     ]
    }
   ],
   "source": [
    "print(train_data['StateHoliday'].unique())"
   ]
  },
  {
   "cell_type": "code",
   "execution_count": 35,
   "id": "2ac1dcf3",
   "metadata": {},
   "outputs": [],
   "source": [
    "train_data['Holiday'] = train_data['StateHoliday'].apply(lambda x: 1 if x != '0' else 0)"
   ]
  },
  {
   "cell_type": "code",
   "execution_count": 36,
   "id": "1bee9fdb",
   "metadata": {},
   "outputs": [
    {
     "data": {
      "text/plain": [
       "0          0\n",
       "1          0\n",
       "2          0\n",
       "3          0\n",
       "4          0\n",
       "          ..\n",
       "1017204    1\n",
       "1017205    1\n",
       "1017206    1\n",
       "1017207    1\n",
       "1017208    1\n",
       "Name: Holiday, Length: 1017209, dtype: int64"
      ]
     },
     "execution_count": 36,
     "metadata": {},
     "output_type": "execute_result"
    }
   ],
   "source": [
    "train_data['Holiday']"
   ]
  },
  {
   "cell_type": "code",
   "execution_count": 37,
   "id": "9a6777c6",
   "metadata": {},
   "outputs": [],
   "source": [
    "before_holiday_sales = train_data[train_data['Holiday'] == 0]['Sales']\n",
    "during_holiday_sales = train_data[train_data['Holiday'] == 1]['Sales']\n",
    "after_holiday_sales = train_data[train_data['Holiday'].shift(-1) == 1]['Sales'] "
   ]
  },
  {
   "cell_type": "code",
   "execution_count": null,
   "id": "aec34225",
   "metadata": {},
   "outputs": [],
   "source": []
  },
  {
   "cell_type": "code",
   "execution_count": null,
   "id": "a032efb0",
   "metadata": {},
   "outputs": [],
   "source": []
  },
  {
   "cell_type": "code",
   "execution_count": null,
   "id": "86255fa3",
   "metadata": {},
   "outputs": [],
   "source": []
  },
  {
   "cell_type": "code",
   "execution_count": 38,
   "id": "d3272c89",
   "metadata": {},
   "outputs": [],
   "source": [
    "sales_before_holiday = train_data[train_data['Holiday'] == 0]['Sales']\n",
    "sales_during_holiday = train_data[train_data['Holiday'] == 1]['Sales']\n",
    "sales_after_holiday = train_data[train_data['Holiday'].shift(-1) == 1]['Sales']"
   ]
  },
  {
   "cell_type": "code",
   "execution_count": 39,
   "id": "d5a2c804",
   "metadata": {},
   "outputs": [
    {
     "data": {
      "text/plain": [
       "0           5263\n",
       "1           6064\n",
       "2           8314\n",
       "3          13995\n",
       "4           4822\n",
       "           ...  \n",
       "1016090     5097\n",
       "1016091    10797\n",
       "1016092     6218\n",
       "1016093    20642\n",
       "1016094     3697\n",
       "Name: Sales, Length: 986159, dtype: int64"
      ]
     },
     "execution_count": 39,
     "metadata": {},
     "output_type": "execute_result"
    }
   ],
   "source": [
    "sales_before_holiday "
   ]
  },
  {
   "cell_type": "code",
   "execution_count": 40,
   "id": "b471dbe4",
   "metadata": {},
   "outputs": [
    {
     "data": {
      "text/plain": [
       "63555         0\n",
       "63557         0\n",
       "63559      5807\n",
       "63560      5749\n",
       "63563         0\n",
       "           ... \n",
       "1017204       0\n",
       "1017205       0\n",
       "1017206       0\n",
       "1017207       0\n",
       "1017208       0\n",
       "Name: Sales, Length: 31050, dtype: int64"
      ]
     },
     "execution_count": 40,
     "metadata": {},
     "output_type": "execute_result"
    }
   ],
   "source": [
    "sales_during_holiday"
   ]
  },
  {
   "cell_type": "code",
   "execution_count": 41,
   "id": "ff7fe1df",
   "metadata": {},
   "outputs": [
    {
     "data": {
      "text/plain": [
       "63554      11435\n",
       "63556       5810\n",
       "63558      10200\n",
       "63559       5807\n",
       "63562       7964\n",
       "           ...  \n",
       "1017203        0\n",
       "1017204        0\n",
       "1017205        0\n",
       "1017206        0\n",
       "1017207        0\n",
       "Name: Sales, Length: 31050, dtype: int64"
      ]
     },
     "execution_count": 41,
     "metadata": {},
     "output_type": "execute_result"
    }
   ],
   "source": [
    "sales_after_holiday"
   ]
  },
  {
   "cell_type": "code",
   "execution_count": null,
   "id": "513af394",
   "metadata": {},
   "outputs": [],
   "source": []
  },
  {
   "cell_type": "code",
   "execution_count": null,
   "id": "5e506b7a",
   "metadata": {},
   "outputs": [],
   "source": []
  },
  {
   "cell_type": "code",
   "execution_count": null,
   "id": "87d5870f",
   "metadata": {},
   "outputs": [],
   "source": []
  },
  {
   "cell_type": "code",
   "execution_count": 42,
   "id": "d667eb64",
   "metadata": {},
   "outputs": [],
   "source": [
    "average_sales_before_holiday = sales_before_holiday.mean()\n",
    "average_sales_during_holiday = sales_during_holiday.mean()\n",
    "average_sales_after_holiday = sales_after_holiday.mean()"
   ]
  },
  {
   "cell_type": "code",
   "execution_count": 43,
   "id": "28f341b9",
   "metadata": {},
   "outputs": [
    {
     "data": {
      "image/png": "[encoded data removed]",
      "text/plain": [
       "<Figure size 576x432 with 1 Axes>"
      ]
     },
     "metadata": {
      "needs_background": "light"
     },
     "output_type": "display_data"
    }
   ],
   "source": [
    "plt.figure(figsize=(8, 6))\n",
    "sns.barplot(x=['Before Holiday', 'During Holiday', 'After Holiday'],\n",
    "            y=[average_sales_before_holiday, average_sales_during_holiday, average_sales_after_holiday])\n",
    "            \n",
    "plt.title('Average Sales Behavior Before, During, and After Holidays')\n",
    "plt.ylabel('Average Sales')\n",
    "plt.show()"
   ]
  },
  {
   "cell_type": "code",
   "execution_count": 46,
   "id": "62756a17",
   "metadata": {},
   "outputs": [],
   "source": [
    "## Total Sales\n",
    "\n",
    "total_sales_before_holiday = before_holiday_sales.sum()\n",
    "total_sales_during_holiday = during_holiday_sales.sum()\n",
    "total_sales_after_holiday = after_holiday_sales.sum()"
   ]
  },
  {
   "cell_type": "code",
   "execution_count": 47,
   "id": "1ca29755",
   "metadata": {},
   "outputs": [
    {
     "data": {
      "image/png": "[encoded data removed]",
      "text/plain": [
       "<Figure size 576x432 with 1 Axes>"
      ]
     },
     "metadata": {
      "needs_background": "light"
     },
     "output_type": "display_data"
    }
   ],
   "source": [
    "plt.figure(figsize=(8, 6))\n",
    "sns.barplot(x=['Before Holiday', 'During Holiday', 'After Holiday'],\n",
    "            y=[total_sales_before_holiday, total_sales_during_holiday, total_sales_after_holiday],\n",
    "            palette='coolwarm')\n",
    "plt.title('Total Sales Before, During, and After Holidays')\n",
    "plt.ylabel('Total Sales')\n",
    "plt.show()"
   ]
  },
  {
   "cell_type": "code",
   "execution_count": null,
   "id": "10dfb530",
   "metadata": {},
   "outputs": [],
   "source": []
  },
  {
   "cell_type": "code",
   "execution_count": 48,
   "id": "5bb4abb0",
   "metadata": {},
   "outputs": [],
   "source": [
    "### Seasonal Sales"
   ]
  },
  {
   "cell_type": "code",
   "execution_count": 49,
   "id": "93712d3d",
   "metadata": {},
   "outputs": [],
   "source": [
    "train_data['Holiday'] = train_data['StateHoliday'].apply(lambda x: 1 if x != '0' else 0)"
   ]
  },
  {
   "cell_type": "code",
   "execution_count": 50,
   "id": "0621208e",
   "metadata": {},
   "outputs": [],
   "source": [
    "## Holidays\n",
    "\n",
    "def is_christmas(date):\n",
    "    return date.month == 12 and date.day in [24, 25, 26, 27, 28, 29, 30, 31]\n",
    "\n",
    "def is_easter(date):\n",
    "    return date.month == 4 and date.day in [18, 19, 20, 21, 22, 23, 24, 25]\n",
    "\n",
    "def is_valentines_day(date):\n",
    "    return date.month == 2 and date.day in [14, 15]\n",
    "\n",
    "def is_halloween(date):\n",
    "    return date.month == 10 and date.day == 31\n",
    "\n",
    "\n",
    "train_data['Christmas'] = train_data['Date'].apply(lambda x: 1 if is_christmas(pd.to_datetime(x)) else 0)\n",
    "train_data['Easter'] = train_data['Date'].apply(lambda x: 1 if is_easter(pd.to_datetime(x)) else 0)\n",
    "train_data['ValentinesDay'] = train_data['Date'].apply(lambda x: 1 if is_valentines_day(pd.to_datetime(x)) else 0)\n",
    "train_data['Halloween'] = train_data['Date'].apply(lambda x: 1 if is_halloween(pd.to_datetime(x)) else 0)"
   ]
  },
  {
   "cell_type": "code",
   "execution_count": 51,
   "id": "e0f64060",
   "metadata": {},
   "outputs": [
    {
     "data": {
      "image/png": "[encoded data removed]",
      "text/plain": [
       "<Figure size 576x432 with 1 Axes>"
      ]
     },
     "metadata": {
      "needs_background": "light"
     },
     "output_type": "display_data"
    }
   ],
   "source": [
    "## Customers in holidays\n",
    "\n",
    "average_customers_christmas = train_data.groupby('Christmas')['Customers'].mean()\n",
    "average_customers_easter = train_data.groupby('Easter')['Customers'].mean()\n",
    "average_customers_valentines_day = train_data.groupby('ValentinesDay')['Customers'].mean()\n",
    "average_customers_halloween = train_data.groupby('Halloween')['Customers'].mean()\n",
    "\n",
    "\n",
    "plt.figure(figsize=(8, 6))\n",
    "sns.barplot(x=['Christmas', 'Easter', \"Valentine's Day\", 'Halloween'],\n",
    "            y=[average_customers_christmas[1], average_customers_easter[1], average_customers_valentines_day[1], average_customers_halloween[1]],\n",
    "            palette='coolwarm')\n",
    "plt.title('Average Number of Customers on Special Occasions')\n",
    "plt.xlabel('Occasion')\n",
    "plt.ylabel('Average Number of Customers')\n",
    "plt.xticks(rotation=45)\n",
    "plt.show()"
   ]
  },
  {
   "cell_type": "code",
   "execution_count": 63,
   "id": "a5b90bf7",
   "metadata": {},
   "outputs": [],
   "source": [
    "holiday_avg_customers = train_data.groupby(['Christmas', 'Easter', 'ValentinesDay', 'Halloween'])['Customers'].mean().reset_index()"
   ]
  },
  {
   "cell_type": "code",
   "execution_count": 64,
   "id": "cd889a9b",
   "metadata": {},
   "outputs": [],
   "source": [
    "holiday = pd.DataFrame(\n",
    "    {\n",
    "        'Occasion': ['Non-Holiday', 'Christmas', 'Easter', \"Valentine's Day\", 'Halloween'],\n",
    "        'Average_Customers': [\n",
    "            holiday_avg_customers[holiday_avg_customers['Christmas'] == 0]['Customers'].mean(),\n",
    "            holiday_avg_customers[holiday_avg_customers['Christmas'] == 1]['Customers'].mean(),\n",
    "            holiday_avg_customers[holiday_avg_customers['Easter'] == 1]['Customers'].mean(),\n",
    "            holiday_avg_customers[holiday_avg_customers['ValentinesDay'] == 1]['Customers'].mean(),\n",
    "            holiday_avg_customers[holiday_avg_customers['Halloween'] == 1]['Customers'].mean()\n",
    "        ]\n",
    "    }\n",
    ")"
   ]
  },
  {
   "cell_type": "code",
   "execution_count": 65,
   "id": "eb0a61d0",
   "metadata": {},
   "outputs": [
    {
     "data": {
      "text/html": [
       "<div>\n",
       "<style scoped>\n",
       "    .dataframe tbody tr th:only-of-type {\n",
       "        vertical-align: middle;\n",
       "    }\n",
       "\n",
       "    .dataframe tbody tr th {\n",
       "        vertical-align: top;\n",
       "    }\n",
       "\n",
       "    .dataframe thead th {\n",
       "        text-align: right;\n",
       "    }\n",
       "</style>\n",
       "<table border=\"1\" class=\"dataframe\">\n",
       "  <thead>\n",
       "    <tr style=\"text-align: right;\">\n",
       "      <th></th>\n",
       "      <th>Occasion</th>\n",
       "      <th>Average_Customers</th>\n",
       "    </tr>\n",
       "  </thead>\n",
       "  <tbody>\n",
       "    <tr>\n",
       "      <th>0</th>\n",
       "      <td>Non-Holiday</td>\n",
       "      <td>628.674761</td>\n",
       "    </tr>\n",
       "    <tr>\n",
       "      <th>1</th>\n",
       "      <td>Christmas</td>\n",
       "      <td>447.241829</td>\n",
       "    </tr>\n",
       "    <tr>\n",
       "      <th>2</th>\n",
       "      <td>Easter</td>\n",
       "      <td>564.677915</td>\n",
       "    </tr>\n",
       "    <tr>\n",
       "      <th>3</th>\n",
       "      <td>Valentine's Day</td>\n",
       "      <td>578.641405</td>\n",
       "    </tr>\n",
       "    <tr>\n",
       "      <th>4</th>\n",
       "      <td>Halloween</td>\n",
       "      <td>733.017073</td>\n",
       "    </tr>\n",
       "  </tbody>\n",
       "</table>\n",
       "</div>"
      ],
      "text/plain": [
       "          Occasion  Average_Customers\n",
       "0      Non-Holiday         628.674761\n",
       "1        Christmas         447.241829\n",
       "2           Easter         564.677915\n",
       "3  Valentine's Day         578.641405\n",
       "4        Halloween         733.017073"
      ]
     },
     "execution_count": 65,
     "metadata": {},
     "output_type": "execute_result"
    }
   ],
   "source": [
    "holiday"
   ]
  },
  {
   "cell_type": "code",
   "execution_count": null,
   "id": "e05612af",
   "metadata": {},
   "outputs": [],
   "source": []
  },
  {
   "cell_type": "code",
   "execution_count": 66,
   "id": "2d3bb71a",
   "metadata": {},
   "outputs": [],
   "source": [
    "## Promo Sales Effect\n",
    "\n",
    "train_data['PromoDay'] = train_data['Promo'].apply(lambda x: 1 if x == 1 else 0)"
   ]
  },
  {
   "cell_type": "code",
   "execution_count": 71,
   "id": "9013060a",
   "metadata": {},
   "outputs": [],
   "source": [
    "promotion_sales = train_data.groupby('PromoDay')['Sales'].mean()\n",
    "promotion_customers = train_data.groupby('PromoDay')['Customers'].mean()"
   ]
  },
  {
   "cell_type": "code",
   "execution_count": 72,
   "id": "44e1f384",
   "metadata": {},
   "outputs": [
    {
     "data": {
      "image/png": "[encoded data removed]",
      "text/plain": [
       "<Figure size 720x432 with 2 Axes>"
      ]
     },
     "metadata": {
      "needs_background": "light"
     },
     "output_type": "display_data"
    }
   ],
   "source": [
    "plt.figure(figsize=(10, 6))\n",
    "\n",
    "plt.subplot(2, 1, 1)\n",
    "sns.barplot(x=['Non-Promo', 'Promo'], y=[average_sales_promo[0], average_sales_promo[1]], palette='coolwarm')\n",
    "plt.title('Average Sales: Promo vs. Non-Promo Days')\n",
    "plt.xlabel('Promo Day')\n",
    "plt.ylabel('Average Sales')\n",
    "\n",
    "plt.subplot(2, 1, 2)\n",
    "sns.barplot(x=['Non-Promo', 'Promo'], y=[average_customers_promo[0], average_customers_promo[1]], palette='coolwarm')\n",
    "plt.title('Average Customers: Promo vs. Non-Promo Days')\n",
    "plt.xlabel('Promo Day')\n",
    "plt.ylabel('Average Number of Customers')\n",
    "\n",
    "plt.tight_layout()\n",
    "plt.show()"
   ]
  },
  {
   "cell_type": "code",
   "execution_count": 3,
   "id": "81def5d5",
   "metadata": {},
   "outputs": [],
   "source": [
    "sample = pd.read_csv('sample_submission.csv')"
   ]
  },
  {
   "cell_type": "code",
   "execution_count": 4,
   "id": "a325fe7b",
   "metadata": {},
   "outputs": [
    {
     "data": {
      "text/html": [
       "<div>\n",
       "<style scoped>\n",
       "    .dataframe tbody tr th:only-of-type {\n",
       "        vertical-align: middle;\n",
       "    }\n",
       "\n",
       "    .dataframe tbody tr th {\n",
       "        vertical-align: top;\n",
       "    }\n",
       "\n",
       "    .dataframe thead th {\n",
       "        text-align: right;\n",
       "    }\n",
       "</style>\n",
       "<table border=\"1\" class=\"dataframe\">\n",
       "  <thead>\n",
       "    <tr style=\"text-align: right;\">\n",
       "      <th></th>\n",
       "      <th>Id</th>\n",
       "      <th>Sales</th>\n",
       "    </tr>\n",
       "  </thead>\n",
       "  <tbody>\n",
       "    <tr>\n",
       "      <th>0</th>\n",
       "      <td>1</td>\n",
       "      <td>0</td>\n",
       "    </tr>\n",
       "    <tr>\n",
       "      <th>1</th>\n",
       "      <td>2</td>\n",
       "      <td>0</td>\n",
       "    </tr>\n",
       "    <tr>\n",
       "      <th>2</th>\n",
       "      <td>3</td>\n",
       "      <td>0</td>\n",
       "    </tr>\n",
       "    <tr>\n",
       "      <th>3</th>\n",
       "      <td>4</td>\n",
       "      <td>0</td>\n",
       "    </tr>\n",
       "    <tr>\n",
       "      <th>4</th>\n",
       "      <td>5</td>\n",
       "      <td>0</td>\n",
       "    </tr>\n",
       "  </tbody>\n",
       "</table>\n",
       "</div>"
      ],
      "text/plain": [
       "   Id  Sales\n",
       "0   1      0\n",
       "1   2      0\n",
       "2   3      0\n",
       "3   4      0\n",
       "4   5      0"
      ]
     },
     "execution_count": 4,
     "metadata": {},
     "output_type": "execute_result"
    }
   ],
   "source": [
    "sample.head()"
   ]
  },
  {
   "cell_type": "code",
   "execution_count": 7,
   "id": "d9ba5d09",
   "metadata": {},
   "outputs": [
    {
     "data": {
      "text/html": [
       "<div>\n",
       "<style scoped>\n",
       "    .dataframe tbody tr th:only-of-type {\n",
       "        vertical-align: middle;\n",
       "    }\n",
       "\n",
       "    .dataframe tbody tr th {\n",
       "        vertical-align: top;\n",
       "    }\n",
       "\n",
       "    .dataframe thead th {\n",
       "        text-align: right;\n",
       "    }\n",
       "</style>\n",
       "<table border=\"1\" class=\"dataframe\">\n",
       "  <thead>\n",
       "    <tr style=\"text-align: right;\">\n",
       "      <th></th>\n",
       "      <th>Id</th>\n",
       "      <th>Sales</th>\n",
       "    </tr>\n",
       "  </thead>\n",
       "  <tbody>\n",
       "    <tr>\n",
       "      <th>count</th>\n",
       "      <td>41088.000000</td>\n",
       "      <td>41088.0</td>\n",
       "    </tr>\n",
       "    <tr>\n",
       "      <th>mean</th>\n",
       "      <td>20544.500000</td>\n",
       "      <td>0.0</td>\n",
       "    </tr>\n",
       "    <tr>\n",
       "      <th>std</th>\n",
       "      <td>11861.228267</td>\n",
       "      <td>0.0</td>\n",
       "    </tr>\n",
       "    <tr>\n",
       "      <th>min</th>\n",
       "      <td>1.000000</td>\n",
       "      <td>0.0</td>\n",
       "    </tr>\n",
       "    <tr>\n",
       "      <th>25%</th>\n",
       "      <td>10272.750000</td>\n",
       "      <td>0.0</td>\n",
       "    </tr>\n",
       "    <tr>\n",
       "      <th>50%</th>\n",
       "      <td>20544.500000</td>\n",
       "      <td>0.0</td>\n",
       "    </tr>\n",
       "    <tr>\n",
       "      <th>75%</th>\n",
       "      <td>30816.250000</td>\n",
       "      <td>0.0</td>\n",
       "    </tr>\n",
       "    <tr>\n",
       "      <th>max</th>\n",
       "      <td>41088.000000</td>\n",
       "      <td>0.0</td>\n",
       "    </tr>\n",
       "  </tbody>\n",
       "</table>\n",
       "</div>"
      ],
      "text/plain": [
       "                 Id    Sales\n",
       "count  41088.000000  41088.0\n",
       "mean   20544.500000      0.0\n",
       "std    11861.228267      0.0\n",
       "min        1.000000      0.0\n",
       "25%    10272.750000      0.0\n",
       "50%    20544.500000      0.0\n",
       "75%    30816.250000      0.0\n",
       "max    41088.000000      0.0"
      ]
     },
     "execution_count": 7,
     "metadata": {},
     "output_type": "execute_result"
    }
   ],
   "source": [
    "sample.describe()"
   ]
  },
  {
   "cell_type": "code",
   "execution_count": 8,
   "id": "cffab22d",
   "metadata": {},
   "outputs": [
    {
     "name": "stdout",
     "output_type": "stream",
     "text": [
      "<class 'pandas.core.frame.DataFrame'>\n",
      "RangeIndex: 41088 entries, 0 to 41087\n",
      "Data columns (total 2 columns):\n",
      " #   Column  Non-Null Count  Dtype\n",
      "---  ------  --------------  -----\n",
      " 0   Id      41088 non-null  int64\n",
      " 1   Sales   41088 non-null  int64\n",
      "dtypes: int64(2)\n",
      "memory usage: 642.1 KB\n"
     ]
    }
   ],
   "source": [
    "sample.info()"
   ]
  },
  {
   "cell_type": "code",
   "execution_count": 5,
   "id": "71d9d190",
   "metadata": {},
   "outputs": [],
   "source": [
    "store = pd.read_csv('store.csv')"
   ]
  },
  {
   "cell_type": "code",
   "execution_count": 6,
   "id": "9b6dd3f6",
   "metadata": {},
   "outputs": [
    {
     "data": {
      "text/html": [
       "<div>\n",
       "<style scoped>\n",
       "    .dataframe tbody tr th:only-of-type {\n",
       "        vertical-align: middle;\n",
       "    }\n",
       "\n",
       "    .dataframe tbody tr th {\n",
       "        vertical-align: top;\n",
       "    }\n",
       "\n",
       "    .dataframe thead th {\n",
       "        text-align: right;\n",
       "    }\n",
       "</style>\n",
       "<table border=\"1\" class=\"dataframe\">\n",
       "  <thead>\n",
       "    <tr style=\"text-align: right;\">\n",
       "      <th></th>\n",
       "      <th>Store</th>\n",
       "      <th>StoreType</th>\n",
       "      <th>Assortment</th>\n",
       "      <th>CompetitionDistance</th>\n",
       "      <th>CompetitionOpenSinceMonth</th>\n",
       "      <th>CompetitionOpenSinceYear</th>\n",
       "      <th>Promo2</th>\n",
       "      <th>Promo2SinceWeek</th>\n",
       "      <th>Promo2SinceYear</th>\n",
       "      <th>PromoInterval</th>\n",
       "    </tr>\n",
       "  </thead>\n",
       "  <tbody>\n",
       "    <tr>\n",
       "      <th>0</th>\n",
       "      <td>1</td>\n",
       "      <td>c</td>\n",
       "      <td>a</td>\n",
       "      <td>1270.0</td>\n",
       "      <td>9.0</td>\n",
       "      <td>2008.0</td>\n",
       "      <td>0</td>\n",
       "      <td>NaN</td>\n",
       "      <td>NaN</td>\n",
       "      <td>NaN</td>\n",
       "    </tr>\n",
       "    <tr>\n",
       "      <th>1</th>\n",
       "      <td>2</td>\n",
       "      <td>a</td>\n",
       "      <td>a</td>\n",
       "      <td>570.0</td>\n",
       "      <td>11.0</td>\n",
       "      <td>2007.0</td>\n",
       "      <td>1</td>\n",
       "      <td>13.0</td>\n",
       "      <td>2010.0</td>\n",
       "      <td>Jan,Apr,Jul,Oct</td>\n",
       "    </tr>\n",
       "    <tr>\n",
       "      <th>2</th>\n",
       "      <td>3</td>\n",
       "      <td>a</td>\n",
       "      <td>a</td>\n",
       "      <td>14130.0</td>\n",
       "      <td>12.0</td>\n",
       "      <td>2006.0</td>\n",
       "      <td>1</td>\n",
       "      <td>14.0</td>\n",
       "      <td>2011.0</td>\n",
       "      <td>Jan,Apr,Jul,Oct</td>\n",
       "    </tr>\n",
       "    <tr>\n",
       "      <th>3</th>\n",
       "      <td>4</td>\n",
       "      <td>c</td>\n",
       "      <td>c</td>\n",
       "      <td>620.0</td>\n",
       "      <td>9.0</td>\n",
       "      <td>2009.0</td>\n",
       "      <td>0</td>\n",
       "      <td>NaN</td>\n",
       "      <td>NaN</td>\n",
       "      <td>NaN</td>\n",
       "    </tr>\n",
       "    <tr>\n",
       "      <th>4</th>\n",
       "      <td>5</td>\n",
       "      <td>a</td>\n",
       "      <td>a</td>\n",
       "      <td>29910.0</td>\n",
       "      <td>4.0</td>\n",
       "      <td>2015.0</td>\n",
       "      <td>0</td>\n",
       "      <td>NaN</td>\n",
       "      <td>NaN</td>\n",
       "      <td>NaN</td>\n",
       "    </tr>\n",
       "  </tbody>\n",
       "</table>\n",
       "</div>"
      ],
      "text/plain": [
       "   Store StoreType Assortment  CompetitionDistance  CompetitionOpenSinceMonth  \\\n",
       "0      1         c          a               1270.0                        9.0   \n",
       "1      2         a          a                570.0                       11.0   \n",
       "2      3         a          a              14130.0                       12.0   \n",
       "3      4         c          c                620.0                        9.0   \n",
       "4      5         a          a              29910.0                        4.0   \n",
       "\n",
       "   CompetitionOpenSinceYear  Promo2  Promo2SinceWeek  Promo2SinceYear  \\\n",
       "0                    2008.0       0              NaN              NaN   \n",
       "1                    2007.0       1             13.0           2010.0   \n",
       "2                    2006.0       1             14.0           2011.0   \n",
       "3                    2009.0       0              NaN              NaN   \n",
       "4                    2015.0       0              NaN              NaN   \n",
       "\n",
       "     PromoInterval  \n",
       "0              NaN  \n",
       "1  Jan,Apr,Jul,Oct  \n",
       "2  Jan,Apr,Jul,Oct  \n",
       "3              NaN  \n",
       "4              NaN  "
      ]
     },
     "execution_count": 6,
     "metadata": {},
     "output_type": "execute_result"
    }
   ],
   "source": [
    "store.head()"
   ]
  },
  {
   "cell_type": "code",
   "execution_count": 9,
   "id": "2af18c44",
   "metadata": {},
   "outputs": [
    {
     "data": {
      "text/html": [
       "<div>\n",
       "<style scoped>\n",
       "    .dataframe tbody tr th:only-of-type {\n",
       "        vertical-align: middle;\n",
       "    }\n",
       "\n",
       "    .dataframe tbody tr th {\n",
       "        vertical-align: top;\n",
       "    }\n",
       "\n",
       "    .dataframe thead th {\n",
       "        text-align: right;\n",
       "    }\n",
       "</style>\n",
       "<table border=\"1\" class=\"dataframe\">\n",
       "  <thead>\n",
       "    <tr style=\"text-align: right;\">\n",
       "      <th></th>\n",
       "      <th>Store</th>\n",
       "      <th>CompetitionDistance</th>\n",
       "      <th>CompetitionOpenSinceMonth</th>\n",
       "      <th>CompetitionOpenSinceYear</th>\n",
       "      <th>Promo2</th>\n",
       "      <th>Promo2SinceWeek</th>\n",
       "      <th>Promo2SinceYear</th>\n",
       "    </tr>\n",
       "  </thead>\n",
       "  <tbody>\n",
       "    <tr>\n",
       "      <th>count</th>\n",
       "      <td>1115.00000</td>\n",
       "      <td>1112.000000</td>\n",
       "      <td>761.000000</td>\n",
       "      <td>761.000000</td>\n",
       "      <td>1115.000000</td>\n",
       "      <td>571.000000</td>\n",
       "      <td>571.000000</td>\n",
       "    </tr>\n",
       "    <tr>\n",
       "      <th>mean</th>\n",
       "      <td>558.00000</td>\n",
       "      <td>5404.901079</td>\n",
       "      <td>7.224704</td>\n",
       "      <td>2008.668857</td>\n",
       "      <td>0.512108</td>\n",
       "      <td>23.595447</td>\n",
       "      <td>2011.763573</td>\n",
       "    </tr>\n",
       "    <tr>\n",
       "      <th>std</th>\n",
       "      <td>322.01708</td>\n",
       "      <td>7663.174720</td>\n",
       "      <td>3.212348</td>\n",
       "      <td>6.195983</td>\n",
       "      <td>0.500078</td>\n",
       "      <td>14.141984</td>\n",
       "      <td>1.674935</td>\n",
       "    </tr>\n",
       "    <tr>\n",
       "      <th>min</th>\n",
       "      <td>1.00000</td>\n",
       "      <td>20.000000</td>\n",
       "      <td>1.000000</td>\n",
       "      <td>1900.000000</td>\n",
       "      <td>0.000000</td>\n",
       "      <td>1.000000</td>\n",
       "      <td>2009.000000</td>\n",
       "    </tr>\n",
       "    <tr>\n",
       "      <th>25%</th>\n",
       "      <td>279.50000</td>\n",
       "      <td>717.500000</td>\n",
       "      <td>4.000000</td>\n",
       "      <td>2006.000000</td>\n",
       "      <td>0.000000</td>\n",
       "      <td>13.000000</td>\n",
       "      <td>2011.000000</td>\n",
       "    </tr>\n",
       "    <tr>\n",
       "      <th>50%</th>\n",
       "      <td>558.00000</td>\n",
       "      <td>2325.000000</td>\n",
       "      <td>8.000000</td>\n",
       "      <td>2010.000000</td>\n",
       "      <td>1.000000</td>\n",
       "      <td>22.000000</td>\n",
       "      <td>2012.000000</td>\n",
       "    </tr>\n",
       "    <tr>\n",
       "      <th>75%</th>\n",
       "      <td>836.50000</td>\n",
       "      <td>6882.500000</td>\n",
       "      <td>10.000000</td>\n",
       "      <td>2013.000000</td>\n",
       "      <td>1.000000</td>\n",
       "      <td>37.000000</td>\n",
       "      <td>2013.000000</td>\n",
       "    </tr>\n",
       "    <tr>\n",
       "      <th>max</th>\n",
       "      <td>1115.00000</td>\n",
       "      <td>75860.000000</td>\n",
       "      <td>12.000000</td>\n",
       "      <td>2015.000000</td>\n",
       "      <td>1.000000</td>\n",
       "      <td>50.000000</td>\n",
       "      <td>2015.000000</td>\n",
       "    </tr>\n",
       "  </tbody>\n",
       "</table>\n",
       "</div>"
      ],
      "text/plain": [
       "            Store  CompetitionDistance  CompetitionOpenSinceMonth  \\\n",
       "count  1115.00000          1112.000000                 761.000000   \n",
       "mean    558.00000          5404.901079                   7.224704   \n",
       "std     322.01708          7663.174720                   3.212348   \n",
       "min       1.00000            20.000000                   1.000000   \n",
       "25%     279.50000           717.500000                   4.000000   \n",
       "50%     558.00000          2325.000000                   8.000000   \n",
       "75%     836.50000          6882.500000                  10.000000   \n",
       "max    1115.00000         75860.000000                  12.000000   \n",
       "\n",
       "       CompetitionOpenSinceYear       Promo2  Promo2SinceWeek  Promo2SinceYear  \n",
       "count                761.000000  1115.000000       571.000000       571.000000  \n",
       "mean                2008.668857     0.512108        23.595447      2011.763573  \n",
       "std                    6.195983     0.500078        14.141984         1.674935  \n",
       "min                 1900.000000     0.000000         1.000000      2009.000000  \n",
       "25%                 2006.000000     0.000000        13.000000      2011.000000  \n",
       "50%                 2010.000000     1.000000        22.000000      2012.000000  \n",
       "75%                 2013.000000     1.000000        37.000000      2013.000000  \n",
       "max                 2015.000000     1.000000        50.000000      2015.000000  "
      ]
     },
     "execution_count": 9,
     "metadata": {},
     "output_type": "execute_result"
    }
   ],
   "source": [
    "store.describe()"
   ]
  },
  {
   "cell_type": "code",
   "execution_count": 10,
   "id": "d0438044",
   "metadata": {},
   "outputs": [
    {
     "name": "stdout",
     "output_type": "stream",
     "text": [
      "<class 'pandas.core.frame.DataFrame'>\n",
      "RangeIndex: 1115 entries, 0 to 1114\n",
      "Data columns (total 10 columns):\n",
      " #   Column                     Non-Null Count  Dtype  \n",
      "---  ------                     --------------  -----  \n",
      " 0   Store                      1115 non-null   int64  \n",
      " 1   StoreType                  1115 non-null   object \n",
      " 2   Assortment                 1115 non-null   object \n",
      " 3   CompetitionDistance        1112 non-null   float64\n",
      " 4   CompetitionOpenSinceMonth  761 non-null    float64\n",
      " 5   CompetitionOpenSinceYear   761 non-null    float64\n",
      " 6   Promo2                     1115 non-null   int64  \n",
      " 7   Promo2SinceWeek            571 non-null    float64\n",
      " 8   Promo2SinceYear            571 non-null    float64\n",
      " 9   PromoInterval              571 non-null    object \n",
      "dtypes: float64(5), int64(2), object(3)\n",
      "memory usage: 87.2+ KB\n"
     ]
    }
   ],
   "source": [
    "store.info()"
   ]
  },
  {
   "cell_type": "code",
   "execution_count": 11,
   "id": "6ebe4152",
   "metadata": {},
   "outputs": [
    {
     "data": {
      "text/plain": [
       "Store                          0\n",
       "StoreType                      0\n",
       "Assortment                     0\n",
       "CompetitionDistance            3\n",
       "CompetitionOpenSinceMonth    354\n",
       "CompetitionOpenSinceYear     354\n",
       "Promo2                         0\n",
       "Promo2SinceWeek              544\n",
       "Promo2SinceYear              544\n",
       "PromoInterval                544\n",
       "dtype: int64"
      ]
     },
     "execution_count": 11,
     "metadata": {},
     "output_type": "execute_result"
    }
   ],
   "source": [
    "store.isnull().sum()"
   ]
  },
  {
   "cell_type": "code",
   "execution_count": 12,
   "id": "efe7ca98",
   "metadata": {},
   "outputs": [
    {
     "name": "stdout",
     "output_type": "stream",
     "text": [
      "The datatype for Store is int64\n",
      "The datatype for StoreType is object\n",
      "The datatype for Assortment is object\n",
      "The datatype for CompetitionDistance is float64\n",
      "The datatype for CompetitionOpenSinceMonth is float64\n",
      "The datatype for CompetitionOpenSinceYear is float64\n",
      "The datatype for Promo2 is int64\n",
      "The datatype for Promo2SinceWeek is float64\n",
      "The datatype for Promo2SinceYear is float64\n",
      "The datatype for PromoInterval is object\n"
     ]
    }
   ],
   "source": [
    "categorical_cols, numerical_cols = [], []\n",
    "\n",
    "for i in store.columns:\n",
    "    print(\"The datatype for {} is {}\".format(i,store[i].dtypes))\n",
    "    if store[i].dtypes == \"object\":\n",
    "        mode_value = store[i].mode()[0]\n",
    "        store[i].fillna(mode_value, inplace = True)\n",
    "    elif store[i].dtypes != \"object\":\n",
    "        mean_value = store[i].mean()\n",
    "        store[i].fillna(mean_value, inplace = True)"
   ]
  },
  {
   "cell_type": "code",
   "execution_count": 13,
   "id": "ad4d3fb5",
   "metadata": {},
   "outputs": [
    {
     "data": {
      "text/plain": [
       "Store                        0\n",
       "StoreType                    0\n",
       "Assortment                   0\n",
       "CompetitionDistance          0\n",
       "CompetitionOpenSinceMonth    0\n",
       "CompetitionOpenSinceYear     0\n",
       "Promo2                       0\n",
       "Promo2SinceWeek              0\n",
       "Promo2SinceYear              0\n",
       "PromoInterval                0\n",
       "dtype: int64"
      ]
     },
     "execution_count": 13,
     "metadata": {},
     "output_type": "execute_result"
    }
   ],
   "source": [
    "store.isnull().sum()"
   ]
  },
  {
   "cell_type": "code",
   "execution_count": 21,
   "id": "8e5b5cdf",
   "metadata": {},
   "outputs": [
    {
     "name": "stdout",
     "output_type": "stream",
     "text": [
      "train_min_date : 2013-01-01 00:00:00\n",
      "train_max_date : 2015-07-31 00:00:00\n"
     ]
    }
   ],
   "source": [
    "train_data['Date'] = pd.to_datetime(train_data['Date'])\n",
    "test_data['Date'] = pd.to_datetime(test_data['Date'])\n",
    "\n",
    "# Determining the minimum and maximum dates in the dataset to find the range of years\n",
    "min_date = train_data['Date'].min()\n",
    "max_date = train_data['Date'].max()\n",
    "years_span = max_date.year - min_date.year\n",
    "print('train_min_date :',min_date)\n",
    "print('train_max_date :',max_date)\n"
   ]
  },
  {
   "cell_type": "code",
   "execution_count": 22,
   "id": "c5b371ad",
   "metadata": {},
   "outputs": [
    {
     "data": {
      "text/html": [
       "<div>\n",
       "<style scoped>\n",
       "    .dataframe tbody tr th:only-of-type {\n",
       "        vertical-align: middle;\n",
       "    }\n",
       "\n",
       "    .dataframe tbody tr th {\n",
       "        vertical-align: top;\n",
       "    }\n",
       "\n",
       "    .dataframe thead th {\n",
       "        text-align: right;\n",
       "    }\n",
       "</style>\n",
       "<table border=\"1\" class=\"dataframe\">\n",
       "  <thead>\n",
       "    <tr style=\"text-align: right;\">\n",
       "      <th></th>\n",
       "      <th>Store</th>\n",
       "      <th>DayOfWeek</th>\n",
       "      <th>Date</th>\n",
       "      <th>Sales</th>\n",
       "      <th>Customers</th>\n",
       "      <th>Open</th>\n",
       "      <th>Promo</th>\n",
       "      <th>StateHoliday</th>\n",
       "      <th>SchoolHoliday</th>\n",
       "    </tr>\n",
       "  </thead>\n",
       "  <tbody>\n",
       "    <tr>\n",
       "      <th>0</th>\n",
       "      <td>1</td>\n",
       "      <td>5</td>\n",
       "      <td>2015-07-31</td>\n",
       "      <td>5263</td>\n",
       "      <td>555</td>\n",
       "      <td>1</td>\n",
       "      <td>1</td>\n",
       "      <td>0</td>\n",
       "      <td>1</td>\n",
       "    </tr>\n",
       "    <tr>\n",
       "      <th>1</th>\n",
       "      <td>2</td>\n",
       "      <td>5</td>\n",
       "      <td>2015-07-31</td>\n",
       "      <td>6064</td>\n",
       "      <td>625</td>\n",
       "      <td>1</td>\n",
       "      <td>1</td>\n",
       "      <td>0</td>\n",
       "      <td>1</td>\n",
       "    </tr>\n",
       "    <tr>\n",
       "      <th>2</th>\n",
       "      <td>3</td>\n",
       "      <td>5</td>\n",
       "      <td>2015-07-31</td>\n",
       "      <td>8314</td>\n",
       "      <td>821</td>\n",
       "      <td>1</td>\n",
       "      <td>1</td>\n",
       "      <td>0</td>\n",
       "      <td>1</td>\n",
       "    </tr>\n",
       "    <tr>\n",
       "      <th>3</th>\n",
       "      <td>4</td>\n",
       "      <td>5</td>\n",
       "      <td>2015-07-31</td>\n",
       "      <td>13995</td>\n",
       "      <td>1498</td>\n",
       "      <td>1</td>\n",
       "      <td>1</td>\n",
       "      <td>0</td>\n",
       "      <td>1</td>\n",
       "    </tr>\n",
       "    <tr>\n",
       "      <th>4</th>\n",
       "      <td>5</td>\n",
       "      <td>5</td>\n",
       "      <td>2015-07-31</td>\n",
       "      <td>4822</td>\n",
       "      <td>559</td>\n",
       "      <td>1</td>\n",
       "      <td>1</td>\n",
       "      <td>0</td>\n",
       "      <td>1</td>\n",
       "    </tr>\n",
       "    <tr>\n",
       "      <th>...</th>\n",
       "      <td>...</td>\n",
       "      <td>...</td>\n",
       "      <td>...</td>\n",
       "      <td>...</td>\n",
       "      <td>...</td>\n",
       "      <td>...</td>\n",
       "      <td>...</td>\n",
       "      <td>...</td>\n",
       "      <td>...</td>\n",
       "    </tr>\n",
       "    <tr>\n",
       "      <th>1017204</th>\n",
       "      <td>1111</td>\n",
       "      <td>2</td>\n",
       "      <td>2013-01-01</td>\n",
       "      <td>0</td>\n",
       "      <td>0</td>\n",
       "      <td>0</td>\n",
       "      <td>0</td>\n",
       "      <td>a</td>\n",
       "      <td>1</td>\n",
       "    </tr>\n",
       "    <tr>\n",
       "      <th>1017205</th>\n",
       "      <td>1112</td>\n",
       "      <td>2</td>\n",
       "      <td>2013-01-01</td>\n",
       "      <td>0</td>\n",
       "      <td>0</td>\n",
       "      <td>0</td>\n",
       "      <td>0</td>\n",
       "      <td>a</td>\n",
       "      <td>1</td>\n",
       "    </tr>\n",
       "    <tr>\n",
       "      <th>1017206</th>\n",
       "      <td>1113</td>\n",
       "      <td>2</td>\n",
       "      <td>2013-01-01</td>\n",
       "      <td>0</td>\n",
       "      <td>0</td>\n",
       "      <td>0</td>\n",
       "      <td>0</td>\n",
       "      <td>a</td>\n",
       "      <td>1</td>\n",
       "    </tr>\n",
       "    <tr>\n",
       "      <th>1017207</th>\n",
       "      <td>1114</td>\n",
       "      <td>2</td>\n",
       "      <td>2013-01-01</td>\n",
       "      <td>0</td>\n",
       "      <td>0</td>\n",
       "      <td>0</td>\n",
       "      <td>0</td>\n",
       "      <td>a</td>\n",
       "      <td>1</td>\n",
       "    </tr>\n",
       "    <tr>\n",
       "      <th>1017208</th>\n",
       "      <td>1115</td>\n",
       "      <td>2</td>\n",
       "      <td>2013-01-01</td>\n",
       "      <td>0</td>\n",
       "      <td>0</td>\n",
       "      <td>0</td>\n",
       "      <td>0</td>\n",
       "      <td>a</td>\n",
       "      <td>1</td>\n",
       "    </tr>\n",
       "  </tbody>\n",
       "</table>\n",
       "<p>1017209 rows × 9 columns</p>\n",
       "</div>"
      ],
      "text/plain": [
       "         Store  DayOfWeek       Date  Sales  Customers  Open  Promo  \\\n",
       "0            1          5 2015-07-31   5263        555     1      1   \n",
       "1            2          5 2015-07-31   6064        625     1      1   \n",
       "2            3          5 2015-07-31   8314        821     1      1   \n",
       "3            4          5 2015-07-31  13995       1498     1      1   \n",
       "4            5          5 2015-07-31   4822        559     1      1   \n",
       "...        ...        ...        ...    ...        ...   ...    ...   \n",
       "1017204   1111          2 2013-01-01      0          0     0      0   \n",
       "1017205   1112          2 2013-01-01      0          0     0      0   \n",
       "1017206   1113          2 2013-01-01      0          0     0      0   \n",
       "1017207   1114          2 2013-01-01      0          0     0      0   \n",
       "1017208   1115          2 2013-01-01      0          0     0      0   \n",
       "\n",
       "        StateHoliday  SchoolHoliday  \n",
       "0                  0              1  \n",
       "1                  0              1  \n",
       "2                  0              1  \n",
       "3                  0              1  \n",
       "4                  0              1  \n",
       "...              ...            ...  \n",
       "1017204            a              1  \n",
       "1017205            a              1  \n",
       "1017206            a              1  \n",
       "1017207            a              1  \n",
       "1017208            a              1  \n",
       "\n",
       "[1017209 rows x 9 columns]"
      ]
     },
     "execution_count": 22,
     "metadata": {},
     "output_type": "execute_result"
    }
   ],
   "source": [
    "train_data"
   ]
  },
  {
   "cell_type": "code",
   "execution_count": 23,
   "id": "27460974",
   "metadata": {},
   "outputs": [
    {
     "name": "stdout",
     "output_type": "stream",
     "text": [
      "         Store  DayOfWeek       Date  Sales  Customers  Open  Promo  \\\n",
      "0            1          5 2015-07-31   5263        555     1      1   \n",
      "742        743          5 2015-07-31   5085        501     1      1   \n",
      "748        749          5 2015-07-31   6612        716     1      1   \n",
      "747        748          5 2015-07-31   7481        578     1      1   \n",
      "746        747          5 2015-07-31  10708        826     1      1   \n",
      "...        ...        ...        ...    ...        ...   ...    ...   \n",
      "1016471    377          2 2013-01-01      0          0     0      0   \n",
      "1016472    378          2 2013-01-01      0          0     0      0   \n",
      "1016473    379          2 2013-01-01      0          0     0      0   \n",
      "1016474    380          2 2013-01-01      0          0     0      0   \n",
      "1017208   1115          2 2013-01-01      0          0     0      0   \n",
      "\n",
      "        StateHoliday  SchoolHoliday  \n",
      "0                  0              1  \n",
      "742                0              1  \n",
      "748                0              1  \n",
      "747                0              1  \n",
      "746                0              1  \n",
      "...              ...            ...  \n",
      "1016471            a              1  \n",
      "1016472            a              1  \n",
      "1016473            a              1  \n",
      "1016474            a              1  \n",
      "1017208            a              1  \n",
      "\n",
      "[1017209 rows x 9 columns]\n",
      "The data spans 2 years.\n"
     ]
    }
   ],
   "source": [
    "# Sort the DataFrame by the date column in descending order (from latest to oldest)\n",
    "train_data_sorted = train_data.sort_values(by='Date', ascending=False)\n",
    "\n",
    "# Displaying the sorted DataFrame\n",
    "print(train_data_sorted)\n",
    "\n",
    "# Displaying the number of years the data spans\n",
    "print(f\"The data spans {years_span} years.\")"
   ]
  },
  {
   "cell_type": "code",
   "execution_count": 24,
   "id": "ef6ce55e",
   "metadata": {},
   "outputs": [
    {
     "name": "stdout",
     "output_type": "stream",
     "text": [
      "test_min_date : 2015-08-01 00:00:00\n",
      "test_max_date : 2015-09-17 00:00:00\n"
     ]
    }
   ],
   "source": [
    "# Determining the minimum and maximum dates in the dataset to find the range of years\n",
    "min_date = test_data['Date'].min()\n",
    "max_date = test_data['Date'].max()\n",
    "years_span = max_date.year - min_date.year\n",
    "print('test_min_date :',min_date)\n",
    "print('test_max_date :',max_date)"
   ]
  },
  {
   "cell_type": "code",
   "execution_count": 25,
   "id": "977154b1",
   "metadata": {},
   "outputs": [
    {
     "name": "stdout",
     "output_type": "stream",
     "text": [
      "          Id  Store  DayOfWeek       Date  Open  Promo StateHoliday  \\\n",
      "0          1      1          4 2015-09-17   1.0      1            0   \n",
      "563      564    728          4 2015-09-17   1.0      1            0   \n",
      "565      566    731          4 2015-09-17   1.0      1            0   \n",
      "566      567    732          4 2015-09-17   1.0      1            0   \n",
      "567      568    733          4 2015-09-17   1.0      1            0   \n",
      "...      ...    ...        ...        ...   ...    ...          ...   \n",
      "40520  40521    373          6 2015-08-01   1.0      0            0   \n",
      "40521  40522    377          6 2015-08-01   1.0      0            0   \n",
      "40522  40523    378          6 2015-08-01   1.0      0            0   \n",
      "40523  40524    379          6 2015-08-01   1.0      0            0   \n",
      "41087  41088   1115          6 2015-08-01   1.0      0            0   \n",
      "\n",
      "       SchoolHoliday  \n",
      "0                  0  \n",
      "563                0  \n",
      "565                0  \n",
      "566                0  \n",
      "567                0  \n",
      "...              ...  \n",
      "40520              0  \n",
      "40521              0  \n",
      "40522              0  \n",
      "40523              1  \n",
      "41087              1  \n",
      "\n",
      "[41088 rows x 8 columns]\n",
      "The data spans 0 years.\n"
     ]
    }
   ],
   "source": [
    "test_data_sorted = test_data.sort_values(by='Date', ascending=False)\n",
    "\n",
    "# Display the sorted DataFrame\n",
    "print(test_data_sorted)\n",
    "\n",
    "# Display the number of years the data spans\n",
    "print(f\"The data spans {years_span} years.\")"
   ]
  },
  {
   "cell_type": "code",
   "execution_count": 26,
   "id": "91a76aad",
   "metadata": {},
   "outputs": [
    {
     "name": "stdout",
     "output_type": "stream",
     "text": [
      "Date\n",
      "2013-01-01       97235\n",
      "2013-01-02     6949829\n",
      "2013-01-03     6347820\n",
      "2013-01-04     6638954\n",
      "2013-01-05     5951593\n",
      "                ...   \n",
      "2015-07-27    10707292\n",
      "2015-07-28     9115073\n",
      "2015-07-29     8499962\n",
      "2015-07-30     8798854\n",
      "2015-07-31    10109742\n",
      "Name: Sales, Length: 942, dtype: int64\n"
     ]
    }
   ],
   "source": [
    "# Convert the 'Date' column to datetime format\n",
    "train_data['Date'] = pd.to_datetime(train_data['Date'])\n",
    "\n",
    "# Group the data by 'Date' and calculate the total sales for each date\n",
    "sales_per_date = train_data.groupby('Date')['Sales'].sum()\n",
    "\n",
    "# Display the total sales per date\n",
    "print(sales_per_date)"
   ]
  },
  {
   "cell_type": "code",
   "execution_count": 27,
   "id": "2199efbd",
   "metadata": {},
   "outputs": [
    {
     "name": "stdout",
     "output_type": "stream",
     "text": [
      "              Date  Sales  Customers\n",
      "0       2015-07-31   5263        555\n",
      "1       2015-07-31   6064        625\n",
      "2       2015-07-31   8314        821\n",
      "3       2015-07-31  13995       1498\n",
      "4       2015-07-31   4822        559\n",
      "...            ...    ...        ...\n",
      "1017204 2013-01-01      0          0\n",
      "1017205 2013-01-01      0          0\n",
      "1017206 2013-01-01      0          0\n",
      "1017207 2013-01-01      0          0\n",
      "1017208 2013-01-01      0          0\n",
      "\n",
      "[1017209 rows x 3 columns]\n"
     ]
    }
   ],
   "source": [
    "# Extract 'Date', 'Sales', and 'Customers' columns\n",
    "date_sales_customers = train_data[['Date', 'Sales', 'Customers']]\n",
    "\n",
    "# Display the extracted data\n",
    "print(date_sales_customers)"
   ]
  },
  {
   "cell_type": "code",
   "execution_count": 28,
   "id": "3df6bc32",
   "metadata": {},
   "outputs": [
    {
     "data": {
      "image/png": "[encoded data removed]",
      "text/plain": [
       "<Figure size 1200x600 with 1 Axes>"
      ]
     },
     "metadata": {},
     "output_type": "display_data"
    }
   ],
   "source": [
    "date_sales_customers.set_index('Date', inplace=True)\n",
    "\n",
    "# line plot for 'Sales' and 'Customers'\n",
    "plt.figure(figsize=(12, 6))\n",
    "plt.plot(date_sales_customers.index, date_sales_customers['Sales'], label='Sales', color='blue')\n",
    "plt.plot(date_sales_customers.index, date_sales_customers['Customers'], label='Customers', color='orange')\n",
    "plt.xlabel('Date')\n",
    "plt.ylabel('Sales / Customers')\n",
    "plt.title('Sales and Customers over Time')\n",
    "plt.legend()\n",
    "plt.grid(True)\n",
    "plt.show()"
   ]
  },
  {
   "cell_type": "code",
   "execution_count": 29,
   "id": "41752bda",
   "metadata": {},
   "outputs": [
    {
     "data": {
      "image/png": "[encoded data removed]",
      "text/plain": [
       "<Figure size 1000x400 with 1 Axes>"
      ]
     },
     "metadata": {},
     "output_type": "display_data"
    }
   ],
   "source": [
    "average_sales_state_holiday = train_data.groupby('StateHoliday')['Sales'].mean()\n",
    "average_sales_school_holiday = train_data.groupby('SchoolHoliday')['Sales'].mean()\n",
    "plt.figure(figsize=(10, 4))\n",
    "\n",
    "# Plot for StateHoliday\n",
    "plt.subplot(1, 2, 1)\n",
    "average_sales_state_holiday.plot(kind='bar', color='blue', alpha=0.7)\n",
    "plt.xlabel('State Holiday')\n",
    "plt.ylabel('Average Sales')\n",
    "plt.title('Average Sales: State Holiday')\n",
    "plt.grid(axis='y')"
   ]
  },
  {
   "cell_type": "code",
   "execution_count": 30,
   "id": "3f1298d1",
   "metadata": {},
   "outputs": [
    {
     "data": {
      "image/png": "[encoded data removed]",
      "text/plain": [
       "<Figure size 600x400 with 1 Axes>"
      ]
     },
     "metadata": {},
     "output_type": "display_data"
    }
   ],
   "source": [
    "average_sales_open = train_data.groupby('Open')['Sales'].mean()\n",
    "\n",
    "# Create a bar plot to visualize the average sales based on the 'Open' status\n",
    "plt.figure(figsize=(6, 4))\n",
    "average_sales_open.plot(kind='bar', color='blue', alpha=0.7)\n",
    "plt.xlabel('Store Open')\n",
    "plt.ylabel('Average Sales')\n",
    "plt.title('Average Sales: Open vs. Closed')\n",
    "plt.xticks([0, 1], ['Closed', 'Open'], rotation=0)\n",
    "plt.grid(axis='y')\n",
    "plt.show()"
   ]
  },
  {
   "cell_type": "code",
   "execution_count": 31,
   "id": "0f3db515",
   "metadata": {},
   "outputs": [
    {
     "data": {
      "image/png": "[encoded data removed]",
      "text/plain": [
       "<Figure size 1000x600 with 1 Axes>"
      ]
     },
     "metadata": {},
     "output_type": "display_data"
    }
   ],
   "source": [
    "plt.figure(figsize=(10, 6))\n",
    "plt.plot(train_data.index, train_data['Sales'], color='blue', label='Sales')\n",
    "plt.plot(train_data.index, train_data['Customers'], color='green', label='Customers')\n",
    "plt.xlabel('Date')\n",
    "plt.ylabel('Count')\n",
    "plt.title('Sales and Customers Over Time')\n",
    "plt.legend()\n",
    "plt.grid()\n",
    "plt.show()\n"
   ]
  },
  {
   "cell_type": "code",
   "execution_count": 33,
   "id": "2a6183c2",
   "metadata": {},
   "outputs": [],
   "source": [
    "train_data['HolidayPeriod'] = 'Regular Day'\n",
    "train_data.loc[train_data['SchoolHoliday'] == 1, 'HolidayPeriod'] = 'During Holiday'\n",
    "train_data.loc[train_data['StateHoliday'] != '0', 'HolidayPeriod'] = 'Before or After Holiday'\n",
    "sales_by_holiday_period = train_data.groupby('HolidayPeriod')['Sales'].mean().reset_index()"
   ]
  },
  {
   "cell_type": "code",
   "execution_count": 34,
   "id": "22b35fee",
   "metadata": {},
   "outputs": [
    {
     "data": {
      "image/png": "[encoded data removed]",
      "text/plain": [
       "<Figure size 800x600 with 1 Axes>"
      ]
     },
     "metadata": {},
     "output_type": "display_data"
    }
   ],
   "source": [
    "plt.figure(figsize=(8, 6))\n",
    "sns.barplot(data=sales_by_holiday_period, x='HolidayPeriod', y='Sales', palette='Set2')\n",
    "plt.xlabel('Holiday Period')\n",
    "plt.ylabel('Average Sales')\n",
    "plt.title('Average Sales Behavior Before, During, and After Holidays')\n",
    "plt.show()"
   ]
  },
  {
   "cell_type": "code",
   "execution_count": null,
   "id": "cbfcd191",
   "metadata": {},
   "outputs": [],
   "source": []
  }
 ],
 "metadata": {
  "kernelspec": {
   "display_name": "Python 3 (ipykernel)",
   "language": "python",
   "name": "python3"
  },
  "language_info": {
   "codemirror_mode": {
    "name": "ipython",
    "version": 3
   },
   "file_extension": ".py",
   "mimetype": "text/x-python",
   "name": "python",
   "nbconvert_exporter": "python",
   "pygments_lexer": "ipython3",
   "version": "3.10.9"
  }
 },
 "nbformat": 4,
 "nbformat_minor": 5
}
