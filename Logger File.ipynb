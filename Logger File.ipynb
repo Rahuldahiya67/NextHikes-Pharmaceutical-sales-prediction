{
 "cells": [
  {
   "cell_type": "code",
   "execution_count": 1,
   "id": "48c49d6c",
   "metadata": {},
   "outputs": [],
   "source": [
    "import logging"
   ]
  },
  {
   "cell_type": "code",
   "execution_count": 2,
   "id": "650a19db",
   "metadata": {},
   "outputs": [
    {
     "name": "stderr",
     "output_type": "stream",
     "text": [
      "2023-09-07 21:28:13,213 - INFO - Pharmaceutical Sales Prediction Project Started.\n",
      "2023-09-07 21:28:13,213 - INFO - Pharmaceutical Sales Prediction Project Started.\n",
      "2023-09-07 21:28:13,219 - INFO - Loading and preprocessing data...\n",
      "2023-09-07 21:28:13,219 - INFO - Loading and preprocessing data...\n",
      "2023-09-07 21:28:13,240 - INFO - Seperating Categorical and Numerical Columns\n",
      "2023-09-07 21:28:13,240 - INFO - Seperating Categorical and Numerical Columns\n",
      "2023-09-07 21:28:13,244 - INFO - Checking for Outliners and Dealing them\n",
      "2023-09-07 21:28:13,244 - INFO - Checking for Outliners and Dealing them\n",
      "2023-09-07 21:28:13,248 - INFO - Elements of the columns\n",
      "2023-09-07 21:28:13,248 - INFO - Elements of the columns\n",
      "2023-09-07 21:28:13,254 - INFO - Promotion Distribution on Train and Test Data\n",
      "2023-09-07 21:28:13,254 - INFO - Promotion Distribution on Train and Test Data\n",
      "2023-09-07 21:28:13,256 - INFO - Checking Sales Behavior as per Holidays\n",
      "2023-09-07 21:28:13,256 - INFO - Checking Sales Behavior as per Holidays\n",
      "2023-09-07 21:28:13,263 - INFO - Seasonal Sales and Holiday\n",
      "2023-09-07 21:28:13,263 - INFO - Seasonal Sales and Holiday\n",
      "2023-09-07 21:28:13,267 - INFO - Promotional Effect\n",
      "2023-09-07 21:28:13,267 - INFO - Promotional Effect\n",
      "2023-09-07 21:28:13,271 - INFO - Store Data Preprocessing\n",
      "2023-09-07 21:28:13,271 - INFO - Store Data Preprocessing\n",
      "2023-09-07 21:28:13,276 - INFO - Sales and Customer Distribution Over Time\n",
      "2023-09-07 21:28:13,276 - INFO - Sales and Customer Distribution Over Time\n",
      "2023-09-07 21:28:13,280 - INFO - Average Sales During State Holiday and During Store Open and Closed Time\n",
      "2023-09-07 21:28:13,280 - INFO - Average Sales During State Holiday and During Store Open and Closed Time\n",
      "2023-09-07 21:28:13,286 - INFO - Average Sales During,Befor and Holiday Period and on a Regular Day\n",
      "2023-09-07 21:28:13,286 - INFO - Average Sales During,Befor and Holiday Period and on a Regular Day\n"
     ]
    }
   ],
   "source": [
    "# Set the logging configuration\n",
    "logging.basicConfig(level=logging.INFO, format='%(asctime)s - %(levelname)s - %(message)s')\n",
    "\n",
    "# Create a logger\n",
    "logger = logging.getLogger('my_logger')\n",
    "\n",
    "# Handlers\n",
    "console_handler = logging.StreamHandler()  \n",
    "file_handler = logging.FileHandler('app.log')  \n",
    "\n",
    "logger.addHandler(console_handler)\n",
    "logger.addHandler(file_handler)\n",
    "\n",
    "# Formatter\n",
    "formatter = logging.Formatter('%(asctime)s - %(levelname)s - %(message)s')\n",
    "console_handler.setFormatter(formatter)\n",
    "file_handler.setFormatter(formatter)\n",
    "\n",
    "# Log the project start\n",
    "logger.info(\"Pharmaceutical Sales Prediction Project Started.\")\n",
    "\n",
    "# Load and preprocess data\n",
    "logger.info(\"Loading and preprocessing data...\")\n",
    "logger.info(\"Seperating Categorical and Numerical Columns\")\n",
    "logger.info(\"Checking for Outliners and Dealing them\")\n",
    "logger.info(\"Elements of the columns\")\n",
    "logger.info(\"Promotion Distribution on Train and Test Data\")\n",
    "logger.info(\"Checking Sales Behavior as per Holidays\")\n",
    "logger.info(\"Seasonal Sales and Holiday\")\n",
    "logger.info(\"Promotional Effect\")\n",
    "logger.info(\"Store Data Preprocessing\")\n",
    "logger.info(\"Sales and Customer Distribution Over Time\")\n",
    "logger.info(\"Average Sales During State Holiday and During Store Open and Closed Time\")\n",
    "logger.info(\"Average Sales During,Befor and Holiday Period and on a Regular Day\")\n",
    "\n",
    "\n",
    "\n",
    "\n"
   ]
  },
  {
   "cell_type": "code",
   "execution_count": null,
   "id": "dab89796",
   "metadata": {},
   "outputs": [],
   "source": []
  }
 ],
 "metadata": {
  "kernelspec": {
   "display_name": "Python 3 (ipykernel)",
   "language": "python",
   "name": "python3"
  },
  "language_info": {
   "codemirror_mode": {
    "name": "ipython",
    "version": 3
   },
   "file_extension": ".py",
   "mimetype": "text/x-python",
   "name": "python",
   "nbconvert_exporter": "python",
   "pygments_lexer": "ipython3",
   "version": "3.10.9"
  }
 },
 "nbformat": 4,
 "nbformat_minor": 5
}
